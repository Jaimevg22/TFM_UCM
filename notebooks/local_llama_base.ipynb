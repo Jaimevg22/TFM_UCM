{
 "cells": [
  {
   "cell_type": "code",
   "execution_count": 1,
   "metadata": {},
   "outputs": [],
   "source": [
    "# %pip install llama_index\n",
    "# %pip install llama-index-embeddings-huggingface\n",
    "# %pip install llama-index-llms-ollama"
   ]
  },
  {
   "cell_type": "code",
   "execution_count": 2,
   "metadata": {},
   "outputs": [
    {
     "name": "stdout",
     "output_type": "stream",
     "text": [
      "GPU is available\n"
     ]
    }
   ],
   "source": [
    "import torch\n",
    "# Verificar si la GPU está disponible\n",
    "if torch.cuda.is_available():\n",
    "    device = torch.device(\"cuda\")\n",
    "    print(\"GPU is available\")\n",
    "else:\n",
    "    device = torch.device(\"cpu\")\n",
    "    print(\"GPU is not available, using CPU\")\n",
    "\n",
    "device = torch.device(\"cuda\")\n"
   ]
  },
  {
   "cell_type": "code",
   "execution_count": 3,
   "metadata": {},
   "outputs": [
    {
     "name": "stderr",
     "output_type": "stream",
     "text": [
      "c:\\Users\\gmsol\\anaconda3\\envs\\tfm_integracion\\lib\\site-packages\\tqdm\\auto.py:21: TqdmWarning: IProgress not found. Please update jupyter and ipywidgets. See https://ipywidgets.readthedocs.io/en/stable/user_install.html\n",
      "  from .autonotebook import tqdm as notebook_tqdm\n"
     ]
    }
   ],
   "source": [
    "\n",
    "from llama_index.core import VectorStoreIndex, SimpleDirectoryReader, Settings\n",
    "from llama_index.embeddings.huggingface import HuggingFaceEmbedding\n",
    "from llama_index.llms.ollama import Ollama\n",
    "\n",
    "\n",
    "documents = SimpleDirectoryReader(\"C:/Users/gmsol/Desktop/videodescargas/transcripciones\").load_data()\n",
    "\n",
    "# bge-base embedding model\n",
    "Settings.embed_model = HuggingFaceEmbedding(model_name=\"BAAI/bge-base-en-v1.5\")\n",
    "\n",
    "# ollama\n",
    "# importante: installar ollama y levantar el modelo que quieras usar por linea de comandos (https://github.com/ollama/ollama?tab=readme-ov-file)\n",
    "Settings.llm = Ollama(model=\"llama3.1\", request_timeout=360.0, device_map=device, temperature=0.1)\n",
    "# Settings.llm.to(device)"
   ]
  },
  {
   "cell_type": "code",
   "execution_count": 4,
   "metadata": {},
   "outputs": [
    {
     "name": "stdout",
     "output_type": "stream",
     "text": [
      "Loaded 4 docs\n"
     ]
    }
   ],
   "source": [
    "print(f\"Loaded {len(documents)} docs\")"
   ]
  },
  {
   "cell_type": "code",
   "execution_count": 5,
   "metadata": {},
   "outputs": [
    {
     "data": {
      "text/plain": [
       "'llama3.1'"
      ]
     },
     "execution_count": 5,
     "metadata": {},
     "output_type": "execute_result"
    }
   ],
   "source": [
    "Settings.llm.model"
   ]
  },
  {
   "cell_type": "code",
   "execution_count": 6,
   "metadata": {},
   "outputs": [
    {
     "name": "stderr",
     "output_type": "stream",
     "text": [
      "c:\\Users\\gmsol\\anaconda3\\envs\\tfm_integracion\\lib\\site-packages\\transformers\\models\\bert\\modeling_bert.py:439: UserWarning: 1Torch was not compiled with flash attention. (Triggered internally at ..\\aten\\src\\ATen\\native\\transformers\\cuda\\sdp_utils.cpp:455.)\n",
      "  attn_output = torch.nn.functional.scaled_dot_product_attention(\n"
     ]
    }
   ],
   "source": [
    "\n",
    "index = VectorStoreIndex.from_documents(\n",
    "    documents,\n",
    ")\n",
    "\n",
    "query_engine = index.as_query_engine()\n"
   ]
  },
  {
   "cell_type": "code",
   "execution_count": 12,
   "metadata": {},
   "outputs": [
    {
     "name": "stdout",
     "output_type": "stream",
     "text": [
      "Debido a la diferencia en energía y masa entre el Sol y un trillón de leones, es imposible que los leones puedan ganar una batalla contra el Sol. El Sol tiene una energía gravitatoria de unos 200.000 sextillones de julios, lo que significa que necesitarían transferirle esa cantidad de energía para destruirlo. Sin embargo, un trillón de leones con 200 trillones de kilos de masa no podría alcanzar una velocidad de aproximadamente el 99,999996% de la velocidad de la luz en el vacío, lo que sería necesario para transferir esa cantidad de energía al Sol. Por lo tanto, el resultado es inevitable: el Sol sería el ganador de esta batalla.\n"
     ]
    }
   ],
   "source": [
    "question = \"Quien ganaria, los leones o el sol? Justifica tu respuesta.\"\n",
    "prompt =f'''Tienes acceso a transcripciones de videos de youtube.\n",
    "            Se te hará una pregunta y debes responder basándote exclusivamente en la información proporcionada en las transcripciones. Si no puedes responder la pregunta utilizando estos datos, indica que la información no está disponible.\n",
    "\n",
    "            Responde de manera educada, estructurada y concisa cuando corresponda. Si la pregunta requiere una respuesta breve, sé claro y directo. Asegúrate de:\n",
    "\n",
    "            No inventar información adicional ni suponer nada que no esté claramente expresado en las transcripciones.\n",
    "            Responder solo utilizando la información proporcionada, sin hacer inferencias más allá del contenido.\n",
    "            Estructurar la respuesta de manera clara y fácil de entender.\n",
    "            Mantener un tono respetuoso y profesional en todo momento.\n",
    "            \n",
    "            PREGUNTA:\n",
    "            {question}\n",
    "            '''\n",
    "response = query_engine.query(question)\n",
    "print(response)\n",
    "# Se realizarán obras para mejorar y ampliar las infraestructuras hidráulicas en determinados municipios de las Illes Balears, incluyendo la mejora del tratamiento EDAR de Sant Lluís.\n"
   ]
  },
  {
   "cell_type": "code",
   "execution_count": 8,
   "metadata": {},
   "outputs": [
    {
     "data": {
      "text/plain": [
       "'La pelea entre los leones y el Sol es desproporcionada. El Sol tiene una energía gravitatoria de unos 200.000 sextillones de julios, mientras que la energía total de un trillón de leones, incluso si se lanzan a una velocidad cercana a la velocidad de la luz, no sería suficiente para destruirlo. Además, el Sol es una bola con un radio de 700.000 kilómetros y una masa de 2 quintillones de kilos, lo que hace que los leones sean insignificantes en comparación. Por tanto, es probable que el Sol ganara la pelea.'"
      ]
     },
     "execution_count": 8,
     "metadata": {},
     "output_type": "execute_result"
    }
   ],
   "source": [
    "\n",
    "response.response\n"
   ]
  },
  {
   "cell_type": "code",
   "execution_count": 9,
   "metadata": {},
   "outputs": [
    {
     "data": {
      "text/plain": [
       "{'373ca2ab-526c-44af-8e30-2b2a6dd97968': {'file_path': 'C:\\\\Users\\\\gmsol\\\\Desktop\\\\videodescargas\\\\transcripciones\\\\CmoPodra1TrillndeLeonesGanarlealSoltxt',\n",
       "  'file_name': 'CmoPodra1TrillndeLeonesGanarlealSoltxt',\n",
       "  'file_size': 11994,\n",
       "  'creation_date': '2024-09-13',\n",
       "  'last_modified_date': '2024-09-13'},\n",
       " '7f151723-7aae-44c8-b332-9b25419f0d66': {'file_path': 'C:\\\\Users\\\\gmsol\\\\Desktop\\\\videodescargas\\\\transcripciones\\\\CmoPodra1TrillndeLeonesGanarlealSoltxt',\n",
       "  'file_name': 'CmoPodra1TrillndeLeonesGanarlealSoltxt',\n",
       "  'file_size': 11994,\n",
       "  'creation_date': '2024-09-13',\n",
       "  'last_modified_date': '2024-09-13'}}"
      ]
     },
     "execution_count": 9,
     "metadata": {},
     "output_type": "execute_result"
    }
   ],
   "source": [
    "\n",
    "response.metadata"
   ]
  }
 ],
 "metadata": {
  "kernelspec": {
   "display_name": "DeepLearningGPU",
   "language": "python",
   "name": "python3"
  },
  "language_info": {
   "codemirror_mode": {
    "name": "ipython",
    "version": 3
   },
   "file_extension": ".py",
   "mimetype": "text/x-python",
   "name": "python",
   "nbconvert_exporter": "python",
   "pygments_lexer": "ipython3",
   "version": "3.10.13"
  }
 },
 "nbformat": 4,
 "nbformat_minor": 2
}
