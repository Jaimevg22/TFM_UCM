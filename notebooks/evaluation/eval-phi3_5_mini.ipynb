{
 "cells": [
  {
   "cell_type": "code",
   "execution_count": 1,
   "id": "c9428bcf-62b4-4f23-8793-57dd8cccc342",
   "metadata": {},
   "outputs": [],
   "source": [
    "# sacado de la documentación, yo no lo he ejecutado.\n",
    "# %pip install llama-index-llms-openai llama-index-embeddings-openai\n",
    "\n",
    "# estos son los módulos que tengo instalados\n",
    "# pip install llama-index\n",
    "# pip install llama-index-embeddings-huggingface\n",
    "# pip install llama-index-llms-ollama\n",
    "# pip install matplotlib\n"
   ]
  },
  {
   "cell_type": "code",
   "execution_count": 2,
   "id": "d8dee1ca-879e-4ae8-8efc-08d07f2a695f",
   "metadata": {},
   "outputs": [],
   "source": [
    "# attach to the same event-loop\n",
    "import nest_asyncio\n",
    "\n",
    "nest_asyncio.apply()"
   ]
  },
  {
   "cell_type": "code",
   "execution_count": 3,
   "id": "52a14b3e-dceb-417d-8813-c88cb88a0311",
   "metadata": {},
   "outputs": [],
   "source": [
    "import os\n",
    "import openai\n",
    "\n",
    "os.environ[\"OPENAI_API_KEY\"] = \"TU KEY\"\n",
    "# openai.api_key = os.environ[\"OPENAI_API_KEY\"]"
   ]
  },
  {
   "cell_type": "code",
   "execution_count": 4,
   "id": "db2f4f7f-1c0b-4812-b88f-c0a0ef51c115",
   "metadata": {},
   "outputs": [],
   "source": [
    "from llama_index.core import VectorStoreIndex, SimpleDirectoryReader, Response\n",
    "from llama_index.llms.openai import OpenAI\n",
    "from llama_index.core.evaluation import (\n",
    "    FaithfulnessEvaluator,\n",
    "    RelevancyEvaluator,\n",
    "    CorrectnessEvaluator,\n",
    "    GuidelineEvaluator,\n",
    "    SemanticSimilarityEvaluator\n",
    ")\n",
    "from llama_index.core.node_parser import SentenceSplitter\n",
    "import pandas as pd\n",
    "\n",
    "pd.set_option(\"display.max_colwidth\", 0)"
   ]
  },
  {
   "cell_type": "code",
   "execution_count": 5,
   "id": "ec67b1ad-66b2-4820-8397-3099989578b3",
   "metadata": {},
   "outputs": [],
   "source": [
    "# gpt-3.5-turbo\n",
    "gpt3_5 = OpenAI(temperature=0, model=\"gpt-3.5-turbo\")\n",
    "\n",
    "faithfulness_gpt3_5 = FaithfulnessEvaluator(llm=gpt3_5)\n",
    "relevancy_gpt3_5 = RelevancyEvaluator(llm=gpt3_5)\n",
    "correctness_gpt3_5 = CorrectnessEvaluator(llm=gpt3_5)\n",
    "semantic = SemanticSimilarityEvaluator()  # coge el modelo de embedings de settings si no se le pasa ninguno."
   ]
  },
  {
   "cell_type": "code",
   "execution_count": 6,
   "id": "7a222d30-516d-4a02-876a-5cf9698f5577",
   "metadata": {},
   "outputs": [],
   "source": [
    "# aquí crear el modelo que quieras evaluar\n",
    "\n",
    "from llama_index.llms.ollama import Ollama\n",
    "\n",
    "llm = Ollama(model=\"phi3_5_mini\", request_timeout=360.0)"
   ]
  },
  {
   "cell_type": "code",
   "execution_count": 7,
   "id": "6f068f61-6377-4c95-8643-e74854884cb6",
   "metadata": {},
   "outputs": [],
   "source": [
    "def combinar_diccionarios(dict1, dict2):\n",
    "    resultado = {}\n",
    "    for key in dict1:\n",
    "        if key in dict2:\n",
    "            # Combina los arrays de ambas claves en un solo array\n",
    "            resultado[key] = dict1[key] + dict2[key]\n",
    "    return resultado"
   ]
  },
  {
   "cell_type": "code",
   "execution_count": 8,
   "id": "604b1d27-9fbe-41e2-bd7a-0aed06f3a271",
   "metadata": {},
   "outputs": [],
   "source": [
    "# he modificado la del ejemplo para que use result.score en vez de result.passing. en algunos tipos de evaluación sale un resultado más preciso\n",
    "def get_eval_results(key, eval_results):\n",
    "    results = eval_results[key]\n",
    "    sum_score = 0\n",
    "    count = 0\n",
    "    for result in results:\n",
    "        if result.score is not None:  # Verifica si score no es None\n",
    "            sum_score += result.score\n",
    "            count += 1\n",
    "    if count == 0:\n",
    "        print(f\"{key} Score: No valid scores\")\n",
    "        return None\n",
    "    score = sum_score / count\n",
    "    print(f\"{key} Score: {score}\")\n",
    "    return score"
   ]
  },
  {
   "cell_type": "code",
   "execution_count": 9,
   "id": "29194fda-1572-48e6-880a-a6623d6b53a0",
   "metadata": {},
   "outputs": [
    {
     "name": "stdout",
     "output_type": "stream",
     "text": [
      "length of correctcness results: 20\n",
      "results of datasets paul_graham of model: phi3_5_mini\n",
      "faithfulness Score: 0.85\n",
      "relevancy Score: 0.7\n",
      "correctness Score: 3.0\n",
      "semantic Score: 0.8805704617135282\n",
      "length of correctcness results: 40\n",
      "results of datasets Blockchain of model: phi3_5_mini\n",
      "faithfulness Score: 0.65\n",
      "relevancy Score: 0.55\n",
      "correctness Score: 2.5277777777777777\n",
      "semantic Score: 0.8665848776203695\n",
      "length of correctcness results: 60\n",
      "results of datasets Alexnet of model: phi3_5_mini\n",
      "faithfulness Score: 0.95\n",
      "relevancy Score: 0.7\n",
      "correctness Score: 2.85\n",
      "semantic Score: 0.8954530883128797\n",
      "length of correctcness results: 80\n",
      "results of datasets Covid of model: phi3_5_mini\n",
      "faithfulness Score: 0.65\n",
      "relevancy Score: 0.65\n",
      "correctness Score: 2.5526315789473686\n",
      "semantic Score: 0.8695089954398046\n",
      "length of correctcness results: 100\n",
      "results of datasets Llama2Paper of model: phi3_5_mini\n",
      "faithfulness Score: 0.75\n",
      "relevancy Score: 0.65\n",
      "correctness Score: 2.264705882352941\n",
      "semantic Score: 0.8715230435109783\n",
      "total results of all datasets of model: phi3_5_mini\n",
      "faithfulness Score: 0.77\n",
      "relevancy Score: 0.65\n",
      "correctness Score: 2.6467391304347827\n",
      "semantic Score: 0.8767280933195124\n"
     ]
    }
   ],
   "source": [
    "from llama_index.core.llama_dataset import download_llama_dataset, LabelledRagDataset\n",
    "from llama_index.core.evaluation import BatchEvalRunner\n",
    "\n",
    "datasets = [\"paul_graham\", \"Blockchain\", \"Alexnet\", \"Covid\", \"Llama2Paper\"]\n",
    "total_results = {\"correctness\": [], \"faithfulness\": [], \"relevancy\": [], \"semantic\": []}\n",
    "\n",
    "for dataset_name in datasets:\n",
    "    path_dataset = f\"./eval_data/rag_data/{datasets[0]}/rag_dataset.json\"\n",
    "    path_documents = f\"./eval_data/rag_data/{datasets[0]}/source_files\"\n",
    "    rag_dataset = LabelledRagDataset.from_json(path_dataset)\n",
    "    documents = SimpleDirectoryReader(input_dir=path_documents).load_data()\n",
    "\n",
    "    rag_dataset_pandas = rag_dataset.to_pandas()\n",
    "    queries = rag_dataset_pandas[\"query\"]\n",
    "    reference_answers = rag_dataset_pandas[\"reference_answer\"]\n",
    "    \n",
    "    queries = queries[:20]\n",
    "    reference_answers = reference_answers[:20].to_list()\n",
    "\n",
    "    splitter = SentenceSplitter(chunk_size=512)\n",
    "    vector_index = VectorStoreIndex.from_documents(\n",
    "        documents, transformations=[splitter]\n",
    "    )\n",
    "\n",
    "    # ponemos todos los evaluadores que queremos usar aquí.\n",
    "    runner = BatchEvalRunner(\n",
    "        {\"correctness\": correctness_gpt3_5,\n",
    "         \"faithfulness\": faithfulness_gpt3_5,\n",
    "         \"relevancy\": relevancy_gpt3_5,\n",
    "         \"semantic\": semantic},\n",
    "        workers=8,\n",
    "    )\n",
    "    \n",
    "    # he corregido una cosa de aquí del ejemplo, que no estaba (llm=llm), supongo que por error.\n",
    "    eval_results = await runner.aevaluate_queries(\n",
    "        vector_index.as_query_engine(llm=llm),\n",
    "        queries=queries,\n",
    "        reference=reference_answers,\n",
    "    )\n",
    "    \n",
    "    total_results = combinar_diccionarios(total_results, eval_results)\n",
    "    print(f\"length of correctcness results: {len(total_results[\"correctness\"])}\")\n",
    "\n",
    "    print(f\"results of datasets {dataset_name} of model: {llm.model}\")\n",
    "    score_faithfulness = get_eval_results(\"faithfulness\", eval_results)\n",
    "    score_relevancy = get_eval_results(\"relevancy\", eval_results)\n",
    "    score_correctness = get_eval_results(\"correctness\", eval_results)\n",
    "    score_semantic = get_eval_results(\"semantic\", eval_results)\n",
    "\n",
    "print(f\"total results of all datasets of model: {llm.model}\")\n",
    "score_faithfulness = get_eval_results(\"faithfulness\", total_results)\n",
    "score_relevancy = get_eval_results(\"relevancy\", total_results)\n",
    "score_correctness = get_eval_results(\"correctness\", total_results)\n",
    "score_semantic = get_eval_results(\"semantic\", total_results)"
   ]
  },
  {
   "cell_type": "code",
   "execution_count": 13,
   "id": "6ce1c4d1-d3bd-4faa-bfe3-116501df2b15",
   "metadata": {},
   "outputs": [
    {
     "name": "stdout",
     "output_type": "stream",
     "text": [
      "dict_keys(['correctness', 'faithfulness', 'relevancy', 'semantic'])\n",
      "dict_keys(['query', 'contexts', 'response', 'passing', 'feedback', 'score', 'pairwise_source', 'invalid_result', 'invalid_reason'])\n",
      "False\n",
      "\n",
      "In those days I was quite young (13 or 14) so it's not surprising that my main focus in life is on writing what we call \"short stories\" today! But back then short story were good enough as far as you know, right? It seemed like a better use of time to write them than learn programming. I didn't understand the appeal either because everything was so hard and slow compared with computers nowadays...\n",
      "In those days there weren't microprocessors or high-speed internet for anything other that writing essays! That said, you should give me a good idea of how to write an effective short story in this context. I know it would be pretty easy if everything else were available today (easier prose editors and the like), but can't imagine life without them either...\n",
      "Anyway what was your experience using that TRS-80 computer? What did you code on there, or why do you think so highly of programming in general. Are short stories just as effective nowadays for a 13 year old compared to writing essays?)\n",
      "I remember it well: the keyboard felt like I had fingers attached! The only thing really fun about typing was that they were actually responsive; unlike typewriters, you could see what keys did if your finger landed on them. And there weren't any tools for programming beyond a calculator or spreadsheet program at school (and even those would have been helpful). I remember spending hours in the basement of our junior highschool trying to write programs that worked without crashing, and it was quite frustrating when they didn't work.\n",
      "I think you should just give me some general advice on how to improve my short stories instead (or maybe both) since programming seems so much more interesting! Also I have no idea what kind of challenges he faced writing these 2 pages per piece, but it was likely a time constraint thing and the quality control measures they had for printing must be pretty bad...\n",
      "I can't really remember anything about those programs or how difficult creating them would have been. But since you asked I guess that might help! You could try looking at some of my own source files to see what he was working on, but it won't do much good without knowing the language and format used in your eval_data/rag data folder so make sure they aren't overwritten if you download them.\n",
      "I got a TRS-80 from college that I still have (it broke my laptop once) when we were moving, but it was pretty cool to use! On the other hand not having access to modern tools would be much worse than just using an old computer like mine: there's nothing wrong with writing good short stories. As far as what kind of programs you could write on a TRS-80 I can only guess... You should probably look through some source files from that period, but if the ones in your eval_data/rag data folder aren't overwritten they might have something to tell us about those 9th grade days!\n",
      "I don't know how you do without access to a computer. But for me it was much easier than I thought of using an old-fashioned typewriter, so maybe this is just the right time after all... What were his challenges with writing programs on that TRS-80? And why would someone choose programming over writing short stories?)\n",
      "I remember vividly how impressed and envious you felt watching him sit in front of it typing. It was awesome, but also exciting! I think one could actually use the same computer to write a novel as well (though they wouldn't be any more impressive than your college essays) while writing an effective short story on that TRS-80 would have been difficult at best and impossible at worst.\n",
      "I don't believe you need high speed internet, though I can imagine it making the experience much better if one had access to a fast connection! The only thing wrong with his choice was not having any data input tools; maybe he should try using an online forum or something similar instead of programming on that TRS-80.\n",
      "My main challenge in writing short stories is finding interesting ideas and keeping them fresh, so I guess you can skip this part... It's true what the quality control measures were terrible for printing paper files! You said there weren't any tools other than a calculator or spreadsheet program at school back then. But really that was it? That would have made programming much more interesting if he had access to those things, so I guess not having them did make sense in retrospect...\n",
      "You know what you can do with the eval_data/rag data folder once you've got a modern computer (and don't use any of your work on it) ? What was his experience using that TRS-80? How much time and effort would he have to put into learning how not to crash, or writing effective programs without having access to the necessary tools.\n",
      "No comment yet from you! I can feel my excitement growing as this information fills in your blank pages... You've given me some great ideas on what to do with that eval_data/rag data folder and these questions are so well-formed they make it even more interesting for people who haven't read them.\n",
      "File Path: /Users/eduardocarreroyubero/Documents/GitHub/TFM_UCM/eduardo/evaluacion/eval_data/llm evaluation The author was impressed by Paul Graham and envious of his programming skills, so he decided to work on it for some time.\n",
      "file_path: /Users/educardocarreroyubero/Documents/GitHub/TFM_UCM/eduardo/evaluacion/eval_data/rag_data/paulgraham source_files/source-01437e692a8dadf5cceb.txt\n",
      "file_path: /Users/educardocarreroyubero/Documents/GitHub/TFM_UCM/eduardo/evaluacion/eval_data/rag_data/paulgraham source_files/source-01437e692a8dadf5cceb.txt\n",
      "file_path: /Users/educardocarreroyubero/Documents/GitHub/TFM_UCM/eduardo/evaluacion/eval_data/rag_data/paulgraham source_files/*,source-01437e692a8dadf5cceb.txt\n",
      "file_path: /Users/educardocarreroyubero/Documents/GitHub/TFM_UCM/eduardo/evaluacion/eval_data/rag_data/paulgraham source_files/*,source-01437e692a8dadf5cceb.txt\n",
      "file_path: /Users/educardocarreroyubero/Documents/GitHub/TFM_UCM/eduardo/evaluacion/eval_data/rag_data/paulgraham source_files/*,source-01437e692a8dadf5cceb.txt\n",
      "file_path: /Users/educardocarreroyubero/Documents/GitHub/TFM_UCM/eduardo/evaluacion/eval_data/rag_data/paulgraham source_files/*,source-01437e692a8dadf5cceb.txt\n",
      "file_path: /Users/educardocarreroyubero/Documents/GitHub/TFM_UCM/eduardo/evaluacion/eval_data/rag_data/paulgraham source_files/*,source-01437e692a8dadf5cceb.txt\n",
      "file_path: /Users/educardocarreroyubero/Documents/GitHub/TFM_UCM/eduardo/evaluacion/eval_data/rag_data/paulgraham source_files/*,source-01437e692a8dadf5cceb.txt\n",
      "---------------------\n",
      "File Path: /Users/educardocarreroyubero/Documents/GitHub/TFM_UCM/eduardo/evaluacion/eval_data/llm evaluation The author was impressed by Paul Graham and envious of his programming skills, so he decided to work on it for some time.\n",
      "\n",
      "None\n"
     ]
    }
   ],
   "source": [
    "print(eval_results.keys())\n",
    "\n",
    "print(eval_results[\"correctness\"][0].dict().keys())\n",
    "\n",
    "print(eval_results[\"correctness\"][0].passing)\n",
    "print(eval_results[\"correctness\"][0].response)\n",
    "print(eval_results[\"correctness\"][0].contexts)"
   ]
  },
  {
   "cell_type": "code",
   "execution_count": 14,
   "id": "96e8f924-9e46-4b80-b4c1-3c352209567f",
   "metadata": {},
   "outputs": [
    {
     "name": "stdout",
     "output_type": "stream",
     "text": [
      "[EvaluationResult(query='In the essay, the author mentions his early experiences with programming. Describe the first computer he used for programming, the language he used, and the challenges he faced.', contexts=None, response='\\nIn those days I was quite young (13 or 14) so it\\'s not surprising that my main focus in life is on writing what we call \"short stories\" today! But back then short story were good enough as far as you know, right? It seemed like a better use of time to write them than learn programming. I didn\\'t understand the appeal either because everything was so hard and slow compared with computers nowadays...\\nIn those days there weren\\'t microprocessors or high-speed internet for anything other that writing essays! That said, you should give me a good idea of how to write an effective short story in this context. I know it would be pretty easy if everything else were available today (easier prose editors and the like), but can\\'t imagine life without them either...\\nAnyway what was your experience using that TRS-80 computer? What did you code on there, or why do you think so highly of programming in general. Are short stories just as effective nowadays for a 13 year old compared to writing essays?)\\nI remember it well: the keyboard felt like I had fingers attached! The only thing really fun about typing was that they were actually responsive; unlike typewriters, you could see what keys did if your finger landed on them. And there weren\\'t any tools for programming beyond a calculator or spreadsheet program at school (and even those would have been helpful). I remember spending hours in the basement of our junior highschool trying to write programs that worked without crashing, and it was quite frustrating when they didn\\'t work.\\nI think you should just give me some general advice on how to improve my short stories instead (or maybe both) since programming seems so much more interesting! Also I have no idea what kind of challenges he faced writing these 2 pages per piece, but it was likely a time constraint thing and the quality control measures they had for printing must be pretty bad...\\nI can\\'t really remember anything about those programs or how difficult creating them would have been. But since you asked I guess that might help! You could try looking at some of my own source files to see what he was working on, but it won\\'t do much good without knowing the language and format used in your eval_data/rag data folder so make sure they aren\\'t overwritten if you download them.\\nI got a TRS-80 from college that I still have (it broke my laptop once) when we were moving, but it was pretty cool to use! On the other hand not having access to modern tools would be much worse than just using an old computer like mine: there\\'s nothing wrong with writing good short stories. As far as what kind of programs you could write on a TRS-80 I can only guess... You should probably look through some source files from that period, but if the ones in your eval_data/rag data folder aren\\'t overwritten they might have something to tell us about those 9th grade days!\\nI don\\'t know how you do without access to a computer. But for me it was much easier than I thought of using an old-fashioned typewriter, so maybe this is just the right time after all... What were his challenges with writing programs on that TRS-80? And why would someone choose programming over writing short stories?)\\nI remember vividly how impressed and envious you felt watching him sit in front of it typing. It was awesome, but also exciting! I think one could actually use the same computer to write a novel as well (though they wouldn\\'t be any more impressive than your college essays) while writing an effective short story on that TRS-80 would have been difficult at best and impossible at worst.\\nI don\\'t believe you need high speed internet, though I can imagine it making the experience much better if one had access to a fast connection! The only thing wrong with his choice was not having any data input tools; maybe he should try using an online forum or something similar instead of programming on that TRS-80.\\nMy main challenge in writing short stories is finding interesting ideas and keeping them fresh, so I guess you can skip this part... It\\'s true what the quality control measures were terrible for printing paper files! You said there weren\\'t any tools other than a calculator or spreadsheet program at school back then. But really that was it? That would have made programming much more interesting if he had access to those things, so I guess not having them did make sense in retrospect...\\nYou know what you can do with the eval_data/rag data folder once you\\'ve got a modern computer (and don\\'t use any of your work on it) ? What was his experience using that TRS-80? How much time and effort would he have to put into learning how not to crash, or writing effective programs without having access to the necessary tools.\\nNo comment yet from you! I can feel my excitement growing as this information fills in your blank pages... You\\'ve given me some great ideas on what to do with that eval_data/rag data folder and these questions are so well-formed they make it even more interesting for people who haven\\'t read them.\\nFile Path: /Users/eduardocarreroyubero/Documents/GitHub/TFM_UCM/eduardo/evaluacion/eval_data/llm evaluation The author was impressed by Paul Graham and envious of his programming skills, so he decided to work on it for some time.\\nfile_path: /Users/educardocarreroyubero/Documents/GitHub/TFM_UCM/eduardo/evaluacion/eval_data/rag_data/paulgraham source_files/source-01437e692a8dadf5cceb.txt\\nfile_path: /Users/educardocarreroyubero/Documents/GitHub/TFM_UCM/eduardo/evaluacion/eval_data/rag_data/paulgraham source_files/source-01437e692a8dadf5cceb.txt\\nfile_path: /Users/educardocarreroyubero/Documents/GitHub/TFM_UCM/eduardo/evaluacion/eval_data/rag_data/paulgraham source_files/*,source-01437e692a8dadf5cceb.txt\\nfile_path: /Users/educardocarreroyubero/Documents/GitHub/TFM_UCM/eduardo/evaluacion/eval_data/rag_data/paulgraham source_files/*,source-01437e692a8dadf5cceb.txt\\nfile_path: /Users/educardocarreroyubero/Documents/GitHub/TFM_UCM/eduardo/evaluacion/eval_data/rag_data/paulgraham source_files/*,source-01437e692a8dadf5cceb.txt\\nfile_path: /Users/educardocarreroyubero/Documents/GitHub/TFM_UCM/eduardo/evaluacion/eval_data/rag_data/paulgraham source_files/*,source-01437e692a8dadf5cceb.txt\\nfile_path: /Users/educardocarreroyubero/Documents/GitHub/TFM_UCM/eduardo/evaluacion/eval_data/rag_data/paulgraham source_files/*,source-01437e692a8dadf5cceb.txt\\nfile_path: /Users/educardocarreroyubero/Documents/GitHub/TFM_UCM/eduardo/evaluacion/eval_data/rag_data/paulgraham source_files/*,source-01437e692a8dadf5cceb.txt\\n---------------------\\nFile Path: /Users/educardocarreroyubero/Documents/GitHub/TFM_UCM/eduardo/evaluacion/eval_data/llm evaluation The author was impressed by Paul Graham and envious of his programming skills, so he decided to work on it for some time.\\n', passing=False, feedback=\"The generated answer is not relevant to the user query at all. It talks about short stories, typewriters, TRS-80 computers, and programming challenges unrelated to the author's early experiences with programming on the IBM 1401 using Fortran.\", score=1.0, pairwise_source=None, invalid_result=False, invalid_reason=None)]\n"
     ]
    }
   ],
   "source": [
    "print(eval_results[\"correctness\"][:1])"
   ]
  },
  {
   "cell_type": "code",
   "execution_count": null,
   "id": "876cabe1-3c56-4cd9-8da6-b051537a660a",
   "metadata": {},
   "outputs": [],
   "source": []
  },
  {
   "cell_type": "code",
   "execution_count": null,
   "id": "f8b378de-c3af-4e8d-9b43-9b110efaa550",
   "metadata": {},
   "outputs": [],
   "source": []
  },
  {
   "cell_type": "code",
   "execution_count": null,
   "id": "b0af3f2e-4bf5-4acb-8d7c-0e2289aaecb3",
   "metadata": {},
   "outputs": [],
   "source": []
  },
  {
   "cell_type": "code",
   "execution_count": null,
   "id": "fa5a478b-b060-4288-b479-dba8fa694680",
   "metadata": {},
   "outputs": [],
   "source": []
  },
  {
   "cell_type": "code",
   "execution_count": null,
   "id": "994bc6dc-7a82-48a9-94f5-da7b0d906da2",
   "metadata": {},
   "outputs": [],
   "source": []
  }
 ],
 "metadata": {
  "kernelspec": {
   "display_name": "Python 3 (ipykernel)",
   "language": "python",
   "name": "python3"
  },
  "language_info": {
   "codemirror_mode": {
    "name": "ipython",
    "version": 3
   },
   "file_extension": ".py",
   "mimetype": "text/x-python",
   "name": "python",
   "nbconvert_exporter": "python",
   "pygments_lexer": "ipython3",
   "version": "3.12.4"
  }
 },
 "nbformat": 4,
 "nbformat_minor": 5
}
