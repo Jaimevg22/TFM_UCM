{
 "cells": [
  {
   "cell_type": "code",
   "execution_count": null,
   "id": "b2247b92-061c-44b2-a49a-c81eafae61d3",
   "metadata": {},
   "outputs": [],
   "source": [
    "!pip install faiss-cpu langchain"
   ]
  },
  {
   "cell_type": "code",
   "execution_count": null,
   "id": "f81dcfd1-2e84-429e-bc7a-19ba5f1825fd",
   "metadata": {},
   "outputs": [],
   "source": [
    "!pip install -U sentence-transformers"
   ]
  },
  {
   "cell_type": "code",
   "execution_count": null,
   "id": "c2b3e423-ca6a-4a1f-8134-928e171355db",
   "metadata": {},
   "outputs": [],
   "source": [
    "!pip install torch==2.3.1"
   ]
  },
  {
   "cell_type": "code",
   "execution_count": 1,
   "id": "2144359f-6683-4621-a3f7-2cc1fa0660d2",
   "metadata": {},
   "outputs": [
    {
     "name": "stderr",
     "output_type": "stream",
     "text": [
      "C:\\Users\\jr119\\AppData\\Local\\Programs\\Python\\Python312\\Lib\\site-packages\\sentence_transformers\\cross_encoder\\CrossEncoder.py:11: TqdmExperimentalWarning: Using `tqdm.autonotebook.tqdm` in notebook mode. Use `tqdm.tqdm` instead to force console mode (e.g. in jupyter console)\n",
      "  from tqdm.autonotebook import tqdm, trange\n"
     ]
    }
   ],
   "source": [
    "import os\n",
    "import faiss\n",
    "import numpy as np\n",
    "from langchain.text_splitter import RecursiveCharacterTextSplitter\n",
    "from sentence_transformers import SentenceTransformer\n",
    "from sklearn.metrics.pairwise import cosine_similarity"
   ]
  },
  {
   "cell_type": "code",
   "execution_count": 2,
   "id": "289ce568-0cd9-4b03-adf6-17b58f19d607",
   "metadata": {},
   "outputs": [],
   "source": [
    "def read_and_split_files(directory_path):\n",
    "    all_chunks = []\n",
    "\n",
    "    # Leer todos los archivos .txt en el directorio\n",
    "    for filename in os.listdir(directory_path):\n",
    "        if filename.endswith(\".txt\"):\n",
    "            file_path = os.path.join(directory_path, filename)\n",
    "            with open(file_path, 'r', encoding='utf-8') as file:\n",
    "                text = file.read()\n",
    "            \n",
    "            # Dividir el texto en fragmentos\n",
    "            text_splitter = RecursiveCharacterTextSplitter(\n",
    "                chunk_size=512,  # Tamaño del fragmento\n",
    "                chunk_overlap=50  # Superposición entre fragmentos\n",
    "            )\n",
    "            \n",
    "            chunks = text_splitter.split_text(text)\n",
    "            all_chunks.extend(chunks)\n",
    "\n",
    "    return all_chunks"
   ]
  },
  {
   "cell_type": "code",
   "execution_count": 3,
   "id": "e7f2a967-02fc-4e8c-872e-cef6b0400f1b",
   "metadata": {},
   "outputs": [],
   "source": [
    "def load_or_create_vector_store(index_file='vector_store.index'):\n",
    "    if os.path.exists(index_file):\n",
    "        # Cargar el índice existente\n",
    "        index = faiss.read_index(index_file)\n",
    "        print(\"Índice FAISS cargado.\")\n",
    "    else:\n",
    "        # Crear un nuevo índice\n",
    "        dimension = 384  # Dimensión del vector, ajustar según el modelo de embeddings\n",
    "        index = faiss.IndexFlatL2(dimension)\n",
    "        print(\"Índice FAISS creado.\")\n",
    "    \n",
    "    return index"
   ]
  },
  {
   "cell_type": "code",
   "execution_count": 4,
   "id": "563786d5-1004-4c29-b984-cd137e5a02cb",
   "metadata": {},
   "outputs": [],
   "source": [
    "def load_or_create_vector_store(index_file='vector_store.index'):\n",
    "    if os.path.exists(index_file):\n",
    "        # Cargar el índice existente\n",
    "        index = faiss.read_index(index_file)\n",
    "        print(\"Índice FAISS cargado.\")\n",
    "    else:\n",
    "        # Crear un nuevo índice\n",
    "        dimension = 384  # Dimensión del vector, ajustar según el modelo de embeddings\n",
    "        index = faiss.IndexFlatL2(dimension)\n",
    "        print(\"Índice FAISS creado.\")\n",
    "    \n",
    "    return index"
   ]
  },
  {
   "cell_type": "code",
   "execution_count": 5,
   "id": "5cb83fa8-34b9-466e-a6b6-0610b5f325e8",
   "metadata": {},
   "outputs": [],
   "source": [
    "def load_or_create_vector_store(index_file='vector_store.index'):\n",
    "    if os.path.exists(index_file):\n",
    "        # Cargar el índice existente\n",
    "        index = faiss.read_index(index_file)\n",
    "        print(\"Índice FAISS cargado.\")\n",
    "    else:\n",
    "        # Crear un nuevo índice\n",
    "        dimension = 384  # Dimensión del vector, ajustar según el modelo de embeddings\n",
    "        index = faiss.IndexFlatL2(dimension)\n",
    "        print(\"Índice FAISS creado.\")\n",
    "    \n",
    "    return index"
   ]
  },
  {
   "cell_type": "code",
   "execution_count": null,
   "id": "a2b534b9-bb1e-447d-962b-8032cbb497e4",
   "metadata": {},
   "outputs": [],
   "source": []
  }
 ],
 "metadata": {
  "kernelspec": {
   "display_name": "Python 3 (ipykernel)",
   "language": "python",
   "name": "python3"
  },
  "language_info": {
   "codemirror_mode": {
    "name": "ipython",
    "version": 3
   },
   "file_extension": ".py",
   "mimetype": "text/x-python",
   "name": "python",
   "nbconvert_exporter": "python",
   "pygments_lexer": "ipython3",
   "version": "3.12.0"
  }
 },
 "nbformat": 4,
 "nbformat_minor": 5
}
