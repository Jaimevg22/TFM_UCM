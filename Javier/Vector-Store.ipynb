{
 "cells": [
  {
   "cell_type": "code",
   "execution_count": 1,
   "id": "66bb6f56-4545-4f2d-862a-347917c07c28",
   "metadata": {},
   "outputs": [
    {
     "name": "stdout",
     "output_type": "stream",
     "text": [
      "Collecting faiss-cpu\n",
      "  Downloading faiss_cpu-1.8.0.post1-cp38-cp38-win_amd64.whl.metadata (3.8 kB)\n",
      "Collecting langchain\n",
      "  Using cached langchain-0.2.14-py3-none-any.whl.metadata (7.1 kB)\n",
      "Collecting numpy<2.0,>=1.0 (from faiss-cpu)\n",
      "  Downloading numpy-1.24.4-cp38-cp38-win_amd64.whl.metadata (5.6 kB)\n",
      "Requirement already satisfied: packaging in c:\\users\\jr119\\anaconda3\\envs\\nlp\\lib\\site-packages (from faiss-cpu) (24.1)\n",
      "Requirement already satisfied: PyYAML>=5.3 in c:\\users\\jr119\\anaconda3\\envs\\nlp\\lib\\site-packages (from langchain) (6.0.1)\n",
      "Collecting SQLAlchemy<3,>=1.4 (from langchain)\n",
      "  Downloading SQLAlchemy-2.0.32-cp38-cp38-win_amd64.whl.metadata (9.8 kB)\n",
      "Collecting aiohttp<4.0.0,>=3.8.3 (from langchain)\n",
      "  Downloading aiohttp-3.10.5-cp38-cp38-win_amd64.whl.metadata (7.8 kB)\n",
      "Collecting async-timeout<5.0.0,>=4.0.0 (from langchain)\n",
      "  Downloading async_timeout-4.0.3-py3-none-any.whl.metadata (4.2 kB)\n",
      "Collecting langchain-core<0.3.0,>=0.2.32 (from langchain)\n",
      "  Using cached langchain_core-0.2.35-py3-none-any.whl.metadata (6.2 kB)\n",
      "Collecting langchain-text-splitters<0.3.0,>=0.2.0 (from langchain)\n",
      "  Using cached langchain_text_splitters-0.2.2-py3-none-any.whl.metadata (2.1 kB)\n",
      "Collecting langsmith<0.2.0,>=0.1.17 (from langchain)\n",
      "  Using cached langsmith-0.1.104-py3-none-any.whl.metadata (13 kB)\n",
      "Collecting pydantic<3,>=1 (from langchain)\n",
      "  Using cached pydantic-2.8.2-py3-none-any.whl.metadata (125 kB)\n",
      "Requirement already satisfied: requests<3,>=2 in c:\\users\\jr119\\anaconda3\\envs\\nlp\\lib\\site-packages (from langchain) (2.32.3)\n",
      "Collecting tenacity!=8.4.0,<9.0.0,>=8.1.0 (from langchain)\n",
      "  Downloading tenacity-8.5.0-py3-none-any.whl.metadata (1.2 kB)\n",
      "Collecting aiohappyeyeballs>=2.3.0 (from aiohttp<4.0.0,>=3.8.3->langchain)\n",
      "  Using cached aiohappyeyeballs-2.4.0-py3-none-any.whl.metadata (5.9 kB)\n",
      "Collecting aiosignal>=1.1.2 (from aiohttp<4.0.0,>=3.8.3->langchain)\n",
      "  Using cached aiosignal-1.3.1-py3-none-any.whl.metadata (4.0 kB)\n",
      "Requirement already satisfied: attrs>=17.3.0 in c:\\users\\jr119\\anaconda3\\envs\\nlp\\lib\\site-packages (from aiohttp<4.0.0,>=3.8.3->langchain) (23.1.0)\n",
      "Collecting frozenlist>=1.1.1 (from aiohttp<4.0.0,>=3.8.3->langchain)\n",
      "  Downloading frozenlist-1.4.1-cp38-cp38-win_amd64.whl.metadata (12 kB)\n",
      "Collecting multidict<7.0,>=4.5 (from aiohttp<4.0.0,>=3.8.3->langchain)\n",
      "  Downloading multidict-6.0.5-cp38-cp38-win_amd64.whl.metadata (4.3 kB)\n",
      "Collecting yarl<2.0,>=1.0 (from aiohttp<4.0.0,>=3.8.3->langchain)\n",
      "  Downloading yarl-1.9.4-cp38-cp38-win_amd64.whl.metadata (32 kB)\n",
      "Collecting jsonpatch<2.0,>=1.33 (from langchain-core<0.3.0,>=0.2.32->langchain)\n",
      "  Using cached jsonpatch-1.33-py2.py3-none-any.whl.metadata (3.0 kB)\n",
      "Requirement already satisfied: typing-extensions>=4.7 in c:\\users\\jr119\\anaconda3\\envs\\nlp\\lib\\site-packages (from langchain-core<0.3.0,>=0.2.32->langchain) (4.11.0)\n",
      "Collecting httpx<1,>=0.23.0 (from langsmith<0.2.0,>=0.1.17->langchain)\n",
      "  Downloading httpx-0.27.1-py3-none-any.whl.metadata (7.2 kB)\n",
      "Collecting orjson<4.0.0,>=3.9.14 (from langsmith<0.2.0,>=0.1.17->langchain)\n",
      "  Downloading orjson-3.10.7-cp38-none-win_amd64.whl.metadata (51 kB)\n",
      "Collecting annotated-types>=0.4.0 (from pydantic<3,>=1->langchain)\n",
      "  Using cached annotated_types-0.7.0-py3-none-any.whl.metadata (15 kB)\n",
      "Collecting pydantic-core==2.20.1 (from pydantic<3,>=1->langchain)\n",
      "  Downloading pydantic_core-2.20.1-cp38-none-win_amd64.whl.metadata (6.7 kB)\n",
      "Requirement already satisfied: charset-normalizer<4,>=2 in c:\\users\\jr119\\anaconda3\\envs\\nlp\\lib\\site-packages (from requests<3,>=2->langchain) (3.3.2)\n",
      "Requirement already satisfied: idna<4,>=2.5 in c:\\users\\jr119\\anaconda3\\envs\\nlp\\lib\\site-packages (from requests<3,>=2->langchain) (3.7)\n",
      "Requirement already satisfied: urllib3<3,>=1.21.1 in c:\\users\\jr119\\anaconda3\\envs\\nlp\\lib\\site-packages (from requests<3,>=2->langchain) (2.2.2)\n",
      "Requirement already satisfied: certifi>=2017.4.17 in c:\\users\\jr119\\anaconda3\\envs\\nlp\\lib\\site-packages (from requests<3,>=2->langchain) (2024.7.4)\n",
      "Collecting greenlet!=0.4.17 (from SQLAlchemy<3,>=1.4->langchain)\n",
      "  Downloading greenlet-3.0.3-cp38-cp38-win_amd64.whl.metadata (3.9 kB)\n",
      "Requirement already satisfied: anyio in c:\\users\\jr119\\anaconda3\\envs\\nlp\\lib\\site-packages (from httpx<1,>=0.23.0->langsmith<0.2.0,>=0.1.17->langchain) (4.2.0)\n",
      "Collecting httpcore==1.* (from httpx<1,>=0.23.0->langsmith<0.2.0,>=0.1.17->langchain)\n",
      "  Using cached httpcore-1.0.5-py3-none-any.whl.metadata (20 kB)\n",
      "Requirement already satisfied: sniffio in c:\\users\\jr119\\anaconda3\\envs\\nlp\\lib\\site-packages (from httpx<1,>=0.23.0->langsmith<0.2.0,>=0.1.17->langchain) (1.3.0)\n",
      "Collecting h11<0.15,>=0.13 (from httpcore==1.*->httpx<1,>=0.23.0->langsmith<0.2.0,>=0.1.17->langchain)\n",
      "  Using cached h11-0.14.0-py3-none-any.whl.metadata (8.2 kB)\n",
      "Collecting jsonpointer>=1.9 (from jsonpatch<2.0,>=1.33->langchain-core<0.3.0,>=0.2.32->langchain)\n",
      "  Downloading jsonpointer-3.0.0-py2.py3-none-any.whl.metadata (2.3 kB)\n",
      "Requirement already satisfied: exceptiongroup>=1.0.2 in c:\\users\\jr119\\anaconda3\\envs\\nlp\\lib\\site-packages (from anyio->httpx<1,>=0.23.0->langsmith<0.2.0,>=0.1.17->langchain) (1.2.0)\n",
      "Downloading faiss_cpu-1.8.0.post1-cp38-cp38-win_amd64.whl (14.6 MB)\n",
      "   ---------------------------------------- 0.0/14.6 MB ? eta -:--:--\n",
      "   -- ------------------------------------- 1.0/14.6 MB 5.6 MB/s eta 0:00:03\n",
      "   ----- ---------------------------------- 1.8/14.6 MB 4.6 MB/s eta 0:00:03\n",
      "   ------- -------------------------------- 2.6/14.6 MB 4.4 MB/s eta 0:00:03\n",
      "   ----------- ---------------------------- 4.2/14.6 MB 5.1 MB/s eta 0:00:03\n",
      "   --------------- ------------------------ 5.8/14.6 MB 5.7 MB/s eta 0:00:02\n",
      "   -------------------- ------------------- 7.3/14.6 MB 5.9 MB/s eta 0:00:02\n",
      "   ------------------------- -------------- 9.2/14.6 MB 6.3 MB/s eta 0:00:01\n",
      "   ------------------------------ --------- 11.0/14.6 MB 6.5 MB/s eta 0:00:01\n",
      "   ----------------------------------- ---- 13.1/14.6 MB 7.0 MB/s eta 0:00:01\n",
      "   ---------------------------------------- 14.6/14.6 MB 7.2 MB/s eta 0:00:00\n",
      "Using cached langchain-0.2.14-py3-none-any.whl (997 kB)\n",
      "Downloading aiohttp-3.10.5-cp38-cp38-win_amd64.whl (381 kB)\n",
      "Downloading async_timeout-4.0.3-py3-none-any.whl (5.7 kB)\n",
      "Using cached langchain_core-0.2.35-py3-none-any.whl (394 kB)\n",
      "Using cached langchain_text_splitters-0.2.2-py3-none-any.whl (25 kB)\n",
      "Using cached langsmith-0.1.104-py3-none-any.whl (149 kB)\n",
      "Downloading numpy-1.24.4-cp38-cp38-win_amd64.whl (14.9 MB)\n",
      "   ---------------------------------------- 0.0/14.9 MB ? eta -:--:--\n",
      "   ---- ----------------------------------- 1.6/14.9 MB 9.4 MB/s eta 0:00:02\n",
      "   --------- ------------------------------ 3.7/14.9 MB 9.1 MB/s eta 0:00:02\n",
      "   --------------- ------------------------ 5.8/14.9 MB 9.3 MB/s eta 0:00:01\n",
      "   --------------------- ------------------ 7.9/14.9 MB 9.4 MB/s eta 0:00:01\n",
      "   -------------------------- ------------- 10.0/14.9 MB 9.6 MB/s eta 0:00:01\n",
      "   -------------------------------- ------- 12.1/14.9 MB 9.7 MB/s eta 0:00:01\n",
      "   ------------------------------------- -- 13.9/14.9 MB 9.7 MB/s eta 0:00:01\n",
      "   ---------------------------------------- 14.9/14.9 MB 9.5 MB/s eta 0:00:00\n",
      "Using cached pydantic-2.8.2-py3-none-any.whl (423 kB)\n",
      "Downloading pydantic_core-2.20.1-cp38-none-win_amd64.whl (1.9 MB)\n",
      "   ---------------------------------------- 0.0/1.9 MB ? eta -:--:--\n",
      "   -------------------------------------- - 1.8/1.9 MB 9.1 MB/s eta 0:00:01\n",
      "   ---------------------------------------- 1.9/1.9 MB 9.6 MB/s eta 0:00:00\n",
      "Downloading SQLAlchemy-2.0.32-cp38-cp38-win_amd64.whl (2.1 MB)\n",
      "   ---------------------------------------- 0.0/2.1 MB ? eta -:--:--\n",
      "   ----------------------------------- ---- 1.8/2.1 MB 10.1 MB/s eta 0:00:01\n",
      "   ---------------------------------------- 2.1/2.1 MB 9.0 MB/s eta 0:00:00\n",
      "Downloading tenacity-8.5.0-py3-none-any.whl (28 kB)\n",
      "Using cached aiohappyeyeballs-2.4.0-py3-none-any.whl (12 kB)\n",
      "Using cached aiosignal-1.3.1-py3-none-any.whl (7.6 kB)\n",
      "Using cached annotated_types-0.7.0-py3-none-any.whl (13 kB)\n",
      "Downloading frozenlist-1.4.1-cp38-cp38-win_amd64.whl (50 kB)\n",
      "Downloading greenlet-3.0.3-cp38-cp38-win_amd64.whl (290 kB)\n",
      "Downloading httpx-0.27.1-py3-none-any.whl (76 kB)\n",
      "Using cached httpcore-1.0.5-py3-none-any.whl (77 kB)\n",
      "Using cached jsonpatch-1.33-py2.py3-none-any.whl (12 kB)\n",
      "Downloading multidict-6.0.5-cp38-cp38-win_amd64.whl (28 kB)\n",
      "Downloading orjson-3.10.7-cp38-none-win_amd64.whl (137 kB)\n",
      "Downloading yarl-1.9.4-cp38-cp38-win_amd64.whl (77 kB)\n",
      "Downloading jsonpointer-3.0.0-py2.py3-none-any.whl (7.6 kB)\n",
      "Using cached h11-0.14.0-py3-none-any.whl (58 kB)\n",
      "Installing collected packages: tenacity, pydantic-core, orjson, numpy, multidict, jsonpointer, h11, greenlet, frozenlist, async-timeout, annotated-types, aiohappyeyeballs, yarl, SQLAlchemy, pydantic, jsonpatch, httpcore, faiss-cpu, aiosignal, httpx, aiohttp, langsmith, langchain-core, langchain-text-splitters, langchain\n",
      "Successfully installed SQLAlchemy-2.0.32 aiohappyeyeballs-2.4.0 aiohttp-3.10.5 aiosignal-1.3.1 annotated-types-0.7.0 async-timeout-4.0.3 faiss-cpu-1.8.0.post1 frozenlist-1.4.1 greenlet-3.0.3 h11-0.14.0 httpcore-1.0.5 httpx-0.27.1 jsonpatch-1.33 jsonpointer-3.0.0 langchain-0.2.14 langchain-core-0.2.35 langchain-text-splitters-0.2.2 langsmith-0.1.104 multidict-6.0.5 numpy-1.24.4 orjson-3.10.7 pydantic-2.8.2 pydantic-core-2.20.1 tenacity-8.5.0 yarl-1.9.4\n"
     ]
    }
   ],
   "source": [
    "!pip install faiss-cpu langchain"
   ]
  },
  {
   "cell_type": "code",
   "execution_count": 2,
   "id": "042d9868-05bd-4ed7-8068-73c79a2b9371",
   "metadata": {},
   "outputs": [
    {
     "name": "stdout",
     "output_type": "stream",
     "text": [
      "Collecting sentence-transformers\n",
      "  Using cached sentence_transformers-3.0.1-py3-none-any.whl.metadata (10 kB)\n",
      "Collecting transformers<5.0.0,>=4.34.0 (from sentence-transformers)\n",
      "  Using cached transformers-4.44.2-py3-none-any.whl.metadata (43 kB)\n",
      "Collecting tqdm (from sentence-transformers)\n",
      "  Using cached tqdm-4.66.5-py3-none-any.whl.metadata (57 kB)\n",
      "Collecting torch>=1.11.0 (from sentence-transformers)\n",
      "  Downloading torch-2.4.0-cp38-cp38-win_amd64.whl.metadata (27 kB)\n",
      "Requirement already satisfied: numpy in c:\\users\\jr119\\anaconda3\\envs\\nlp\\lib\\site-packages (from sentence-transformers) (1.24.4)\n",
      "Collecting scikit-learn (from sentence-transformers)\n",
      "  Downloading scikit_learn-1.3.2-cp38-cp38-win_amd64.whl.metadata (11 kB)\n",
      "Collecting scipy (from sentence-transformers)\n",
      "  Downloading scipy-1.10.1-cp38-cp38-win_amd64.whl.metadata (58 kB)\n",
      "Collecting huggingface-hub>=0.15.1 (from sentence-transformers)\n",
      "  Using cached huggingface_hub-0.24.6-py3-none-any.whl.metadata (13 kB)\n",
      "Collecting Pillow (from sentence-transformers)\n",
      "  Downloading pillow-10.4.0-cp38-cp38-win_amd64.whl.metadata (9.3 kB)\n",
      "Collecting filelock (from huggingface-hub>=0.15.1->sentence-transformers)\n",
      "  Downloading filelock-3.15.4-py3-none-any.whl.metadata (2.9 kB)\n",
      "Collecting fsspec>=2023.5.0 (from huggingface-hub>=0.15.1->sentence-transformers)\n",
      "  Using cached fsspec-2024.6.1-py3-none-any.whl.metadata (11 kB)\n",
      "Requirement already satisfied: packaging>=20.9 in c:\\users\\jr119\\anaconda3\\envs\\nlp\\lib\\site-packages (from huggingface-hub>=0.15.1->sentence-transformers) (24.1)\n",
      "Requirement already satisfied: pyyaml>=5.1 in c:\\users\\jr119\\anaconda3\\envs\\nlp\\lib\\site-packages (from huggingface-hub>=0.15.1->sentence-transformers) (6.0.1)\n",
      "Requirement already satisfied: requests in c:\\users\\jr119\\anaconda3\\envs\\nlp\\lib\\site-packages (from huggingface-hub>=0.15.1->sentence-transformers) (2.32.3)\n",
      "Requirement already satisfied: typing-extensions>=3.7.4.3 in c:\\users\\jr119\\anaconda3\\envs\\nlp\\lib\\site-packages (from huggingface-hub>=0.15.1->sentence-transformers) (4.11.0)\n",
      "Collecting sympy (from torch>=1.11.0->sentence-transformers)\n",
      "  Using cached sympy-1.13.2-py3-none-any.whl.metadata (12 kB)\n",
      "Collecting networkx (from torch>=1.11.0->sentence-transformers)\n",
      "  Downloading networkx-3.1-py3-none-any.whl.metadata (5.3 kB)\n",
      "Requirement already satisfied: jinja2 in c:\\users\\jr119\\anaconda3\\envs\\nlp\\lib\\site-packages (from torch>=1.11.0->sentence-transformers) (3.1.4)\n",
      "Requirement already satisfied: colorama in c:\\users\\jr119\\anaconda3\\envs\\nlp\\lib\\site-packages (from tqdm->sentence-transformers) (0.4.6)\n",
      "Collecting regex!=2019.12.17 (from transformers<5.0.0,>=4.34.0->sentence-transformers)\n",
      "  Downloading regex-2024.7.24-cp38-cp38-win_amd64.whl.metadata (41 kB)\n",
      "Collecting safetensors>=0.4.1 (from transformers<5.0.0,>=4.34.0->sentence-transformers)\n",
      "  Downloading safetensors-0.4.4-cp38-none-win_amd64.whl.metadata (3.9 kB)\n",
      "Collecting tokenizers<0.20,>=0.19 (from transformers<5.0.0,>=4.34.0->sentence-transformers)\n",
      "  Downloading tokenizers-0.19.1-cp38-none-win_amd64.whl.metadata (6.9 kB)\n",
      "Collecting joblib>=1.1.1 (from scikit-learn->sentence-transformers)\n",
      "  Downloading joblib-1.4.2-py3-none-any.whl.metadata (5.4 kB)\n",
      "Collecting threadpoolctl>=2.0.0 (from scikit-learn->sentence-transformers)\n",
      "  Downloading threadpoolctl-3.5.0-py3-none-any.whl.metadata (13 kB)\n",
      "Requirement already satisfied: MarkupSafe>=2.0 in c:\\users\\jr119\\anaconda3\\envs\\nlp\\lib\\site-packages (from jinja2->torch>=1.11.0->sentence-transformers) (2.1.3)\n",
      "Requirement already satisfied: charset-normalizer<4,>=2 in c:\\users\\jr119\\anaconda3\\envs\\nlp\\lib\\site-packages (from requests->huggingface-hub>=0.15.1->sentence-transformers) (3.3.2)\n",
      "Requirement already satisfied: idna<4,>=2.5 in c:\\users\\jr119\\anaconda3\\envs\\nlp\\lib\\site-packages (from requests->huggingface-hub>=0.15.1->sentence-transformers) (3.7)\n",
      "Requirement already satisfied: urllib3<3,>=1.21.1 in c:\\users\\jr119\\anaconda3\\envs\\nlp\\lib\\site-packages (from requests->huggingface-hub>=0.15.1->sentence-transformers) (2.2.2)\n",
      "Requirement already satisfied: certifi>=2017.4.17 in c:\\users\\jr119\\anaconda3\\envs\\nlp\\lib\\site-packages (from requests->huggingface-hub>=0.15.1->sentence-transformers) (2024.7.4)\n",
      "Collecting mpmath<1.4,>=1.1.0 (from sympy->torch>=1.11.0->sentence-transformers)\n",
      "  Using cached mpmath-1.3.0-py3-none-any.whl.metadata (8.6 kB)\n",
      "Using cached sentence_transformers-3.0.1-py3-none-any.whl (227 kB)\n",
      "Using cached huggingface_hub-0.24.6-py3-none-any.whl (417 kB)\n",
      "Downloading torch-2.4.0-cp38-cp38-win_amd64.whl (198.1 MB)\n",
      "   ---------------------------------------- 0.0/198.1 MB ? eta -:--:--\n",
      "   ---------------------------------------- 2.1/198.1 MB 10.7 MB/s eta 0:00:19\n",
      "    --------------------------------------- 4.5/198.1 MB 11.2 MB/s eta 0:00:18\n",
      "   - -------------------------------------- 6.0/198.1 MB 10.3 MB/s eta 0:00:19\n",
      "   - -------------------------------------- 7.1/198.1 MB 8.6 MB/s eta 0:00:23\n",
      "   - -------------------------------------- 8.1/198.1 MB 7.7 MB/s eta 0:00:25\n",
      "   -- ------------------------------------- 10.2/198.1 MB 8.1 MB/s eta 0:00:24\n",
      "   -- ------------------------------------- 11.8/198.1 MB 7.9 MB/s eta 0:00:24\n",
      "   -- ------------------------------------- 13.6/198.1 MB 7.9 MB/s eta 0:00:24\n",
      "   --- ------------------------------------ 15.7/198.1 MB 8.1 MB/s eta 0:00:23\n",
      "   --- ------------------------------------ 17.3/198.1 MB 8.0 MB/s eta 0:00:23\n",
      "   --- ------------------------------------ 19.7/198.1 MB 8.3 MB/s eta 0:00:22\n",
      "   ---- ----------------------------------- 21.8/198.1 MB 8.4 MB/s eta 0:00:21\n",
      "   ---- ----------------------------------- 23.9/198.1 MB 8.6 MB/s eta 0:00:21\n",
      "   ----- ---------------------------------- 26.2/198.1 MB 8.8 MB/s eta 0:00:20\n",
      "   ----- ---------------------------------- 28.3/198.1 MB 8.9 MB/s eta 0:00:20\n",
      "   ------ --------------------------------- 30.4/198.1 MB 8.9 MB/s eta 0:00:19\n",
      "   ------ --------------------------------- 32.8/198.1 MB 9.0 MB/s eta 0:00:19\n",
      "   ------- -------------------------------- 35.1/198.1 MB 9.1 MB/s eta 0:00:18\n",
      "   ------- -------------------------------- 37.0/198.1 MB 9.2 MB/s eta 0:00:18\n",
      "   ------- -------------------------------- 39.1/198.1 MB 9.1 MB/s eta 0:00:18\n",
      "   -------- ------------------------------- 41.7/198.1 MB 9.3 MB/s eta 0:00:17\n",
      "   -------- ------------------------------- 43.3/198.1 MB 9.2 MB/s eta 0:00:17\n",
      "   --------- ------------------------------ 45.4/198.1 MB 9.2 MB/s eta 0:00:17\n",
      "   --------- ------------------------------ 46.9/198.1 MB 9.2 MB/s eta 0:00:17\n",
      "   --------- ------------------------------ 48.5/198.1 MB 9.1 MB/s eta 0:00:17\n",
      "   ---------- ----------------------------- 50.6/198.1 MB 9.1 MB/s eta 0:00:17\n",
      "   ---------- ----------------------------- 52.2/198.1 MB 9.1 MB/s eta 0:00:17\n",
      "   ---------- ----------------------------- 53.7/198.1 MB 9.0 MB/s eta 0:00:17\n",
      "   ----------- ---------------------------- 55.8/198.1 MB 9.0 MB/s eta 0:00:16\n",
      "   ----------- ---------------------------- 57.9/198.1 MB 9.0 MB/s eta 0:00:16\n",
      "   ------------ --------------------------- 59.5/198.1 MB 9.0 MB/s eta 0:00:16\n",
      "   ------------ --------------------------- 61.6/198.1 MB 9.0 MB/s eta 0:00:16\n",
      "   ------------ --------------------------- 63.4/198.1 MB 9.0 MB/s eta 0:00:15\n",
      "   ------------- -------------------------- 65.8/198.1 MB 9.0 MB/s eta 0:00:15\n",
      "   ------------- -------------------------- 67.4/198.1 MB 9.0 MB/s eta 0:00:15\n",
      "   -------------- ------------------------- 69.5/198.1 MB 9.0 MB/s eta 0:00:15\n",
      "   -------------- ------------------------- 70.8/198.1 MB 9.0 MB/s eta 0:00:15\n",
      "   -------------- ------------------------- 72.9/198.1 MB 9.0 MB/s eta 0:00:14\n",
      "   --------------- ------------------------ 74.7/198.1 MB 9.0 MB/s eta 0:00:14\n",
      "   --------------- ------------------------ 76.8/198.1 MB 9.0 MB/s eta 0:00:14\n",
      "   --------------- ------------------------ 78.9/198.1 MB 9.0 MB/s eta 0:00:14\n",
      "   ---------------- ----------------------- 80.7/198.1 MB 9.0 MB/s eta 0:00:14\n",
      "   ---------------- ----------------------- 82.8/198.1 MB 9.0 MB/s eta 0:00:13\n",
      "   ----------------- ---------------------- 84.7/198.1 MB 9.0 MB/s eta 0:00:13\n",
      "   ----------------- ---------------------- 86.8/198.1 MB 9.0 MB/s eta 0:00:13\n",
      "   ----------------- ---------------------- 88.3/198.1 MB 8.9 MB/s eta 0:00:13\n",
      "   ------------------ --------------------- 90.2/198.1 MB 9.0 MB/s eta 0:00:13\n",
      "   ------------------ --------------------- 92.0/198.1 MB 9.0 MB/s eta 0:00:12\n",
      "   ------------------- -------------------- 94.4/198.1 MB 9.0 MB/s eta 0:00:12\n",
      "   ------------------- -------------------- 96.5/198.1 MB 9.0 MB/s eta 0:00:12\n",
      "   ------------------- -------------------- 98.0/198.1 MB 9.0 MB/s eta 0:00:12\n",
      "   -------------------- ------------------- 100.1/198.1 MB 9.0 MB/s eta 0:00:11\n",
      "   -------------------- ------------------- 101.7/198.1 MB 9.0 MB/s eta 0:00:11\n",
      "   -------------------- ------------------- 103.8/198.1 MB 9.0 MB/s eta 0:00:11\n",
      "   --------------------- ------------------ 105.9/198.1 MB 9.0 MB/s eta 0:00:11\n",
      "   --------------------- ------------------ 108.3/198.1 MB 9.0 MB/s eta 0:00:10\n",
      "   ---------------------- ----------------- 109.6/198.1 MB 9.0 MB/s eta 0:00:10\n",
      "   ---------------------- ----------------- 111.7/198.1 MB 9.0 MB/s eta 0:00:10\n",
      "   ---------------------- ----------------- 113.5/198.1 MB 9.0 MB/s eta 0:00:10\n",
      "   ----------------------- ---------------- 115.6/198.1 MB 9.0 MB/s eta 0:00:10\n",
      "   ----------------------- ---------------- 117.7/198.1 MB 9.0 MB/s eta 0:00:09\n",
      "   ------------------------ --------------- 120.1/198.1 MB 9.1 MB/s eta 0:00:09\n",
      "   ------------------------ --------------- 122.2/198.1 MB 9.1 MB/s eta 0:00:09\n",
      "   ------------------------- -------------- 124.5/198.1 MB 9.1 MB/s eta 0:00:09\n",
      "   ------------------------- -------------- 126.4/198.1 MB 9.1 MB/s eta 0:00:08\n",
      "   ------------------------- -------------- 128.7/198.1 MB 9.1 MB/s eta 0:00:08\n",
      "   -------------------------- ------------- 130.5/198.1 MB 9.1 MB/s eta 0:00:08\n",
      "   -------------------------- ------------- 132.6/198.1 MB 9.1 MB/s eta 0:00:08\n",
      "   --------------------------- ------------ 135.0/198.1 MB 9.2 MB/s eta 0:00:07\n",
      "   --------------------------- ------------ 136.8/198.1 MB 9.1 MB/s eta 0:00:07\n",
      "   --------------------------- ------------ 138.7/198.1 MB 9.2 MB/s eta 0:00:07\n",
      "   ---------------------------- ----------- 140.2/198.1 MB 9.1 MB/s eta 0:00:07\n",
      "   ---------------------------- ----------- 141.8/198.1 MB 9.1 MB/s eta 0:00:07\n",
      "   ----------------------------- ---------- 143.7/198.1 MB 9.1 MB/s eta 0:00:06\n",
      "   ----------------------------- ---------- 145.5/198.1 MB 9.1 MB/s eta 0:00:06\n",
      "   ----------------------------- ---------- 147.6/198.1 MB 9.1 MB/s eta 0:00:06\n",
      "   ------------------------------ --------- 149.4/198.1 MB 9.1 MB/s eta 0:00:06\n",
      "   ------------------------------ --------- 151.0/198.1 MB 9.1 MB/s eta 0:00:06\n",
      "   ------------------------------ --------- 152.8/198.1 MB 9.1 MB/s eta 0:00:05\n",
      "   ------------------------------- -------- 154.7/198.1 MB 9.1 MB/s eta 0:00:05\n",
      "   ------------------------------- -------- 156.5/198.1 MB 9.1 MB/s eta 0:00:05\n",
      "   -------------------------------- ------- 158.6/198.1 MB 9.1 MB/s eta 0:00:05\n",
      "   -------------------------------- ------- 160.4/198.1 MB 9.1 MB/s eta 0:00:05\n",
      "   -------------------------------- ------- 162.5/198.1 MB 9.1 MB/s eta 0:00:04\n",
      "   --------------------------------- ------ 164.1/198.1 MB 9.1 MB/s eta 0:00:04\n",
      "   --------------------------------- ------ 165.9/198.1 MB 9.1 MB/s eta 0:00:04\n",
      "   --------------------------------- ------ 168.0/198.1 MB 9.1 MB/s eta 0:00:04\n",
      "   ---------------------------------- ----- 169.9/198.1 MB 9.0 MB/s eta 0:00:04\n",
      "   ---------------------------------- ----- 171.7/198.1 MB 9.0 MB/s eta 0:00:03\n",
      "   ---------------------------------- ----- 173.3/198.1 MB 9.0 MB/s eta 0:00:03\n",
      "   ----------------------------------- ---- 175.4/198.1 MB 9.0 MB/s eta 0:00:03\n",
      "   ----------------------------------- ---- 177.5/198.1 MB 9.1 MB/s eta 0:00:03\n",
      "   ------------------------------------ --- 179.3/198.1 MB 9.1 MB/s eta 0:00:03\n",
      "   ------------------------------------ --- 181.4/198.1 MB 9.1 MB/s eta 0:00:02\n",
      "   ------------------------------------- -- 183.5/198.1 MB 9.1 MB/s eta 0:00:02\n",
      "   ------------------------------------- -- 184.8/198.1 MB 9.1 MB/s eta 0:00:02\n",
      "   ------------------------------------- -- 186.6/198.1 MB 9.0 MB/s eta 0:00:02\n",
      "   -------------------------------------- - 188.7/198.1 MB 9.0 MB/s eta 0:00:02\n",
      "   -------------------------------------- - 190.3/198.1 MB 9.0 MB/s eta 0:00:01\n",
      "   -------------------------------------- - 192.2/198.1 MB 9.0 MB/s eta 0:00:01\n",
      "   ---------------------------------------  194.2/198.1 MB 9.0 MB/s eta 0:00:01\n",
      "   ---------------------------------------  196.1/198.1 MB 9.0 MB/s eta 0:00:01\n",
      "   ---------------------------------------  197.9/198.1 MB 9.0 MB/s eta 0:00:01\n",
      "   ---------------------------------------  197.9/198.1 MB 9.0 MB/s eta 0:00:01\n",
      "   ---------------------------------------- 198.1/198.1 MB 8.9 MB/s eta 0:00:00\n",
      "Using cached tqdm-4.66.5-py3-none-any.whl (78 kB)\n",
      "Using cached transformers-4.44.2-py3-none-any.whl (9.5 MB)\n",
      "Downloading pillow-10.4.0-cp38-cp38-win_amd64.whl (2.6 MB)\n",
      "   ---------------------------------------- 0.0/2.6 MB ? eta -:--:--\n",
      "   ---------------------------- ----------- 1.8/2.6 MB 9.1 MB/s eta 0:00:01\n",
      "   ---------------------------------------- 2.6/2.6 MB 9.2 MB/s eta 0:00:00\n",
      "Downloading scikit_learn-1.3.2-cp38-cp38-win_amd64.whl (9.3 MB)\n",
      "   ---------------------------------------- 0.0/9.3 MB ? eta -:--:--\n",
      "   ------- -------------------------------- 1.8/9.3 MB 10.1 MB/s eta 0:00:01\n",
      "   ---------------- ----------------------- 3.9/9.3 MB 9.8 MB/s eta 0:00:01\n",
      "   ------------------------ --------------- 5.8/9.3 MB 9.3 MB/s eta 0:00:01\n",
      "   --------------------------------- ------ 7.9/9.3 MB 9.5 MB/s eta 0:00:01\n",
      "   ---------------------------------------- 9.3/9.3 MB 9.4 MB/s eta 0:00:00\n",
      "Downloading scipy-1.10.1-cp38-cp38-win_amd64.whl (42.2 MB)\n",
      "   ---------------------------------------- 0.0/42.2 MB ? eta -:--:--\n",
      "   - -------------------------------------- 1.6/42.2 MB 8.4 MB/s eta 0:00:05\n",
      "   -- ------------------------------------- 3.1/42.2 MB 8.0 MB/s eta 0:00:05\n",
      "   ---- ----------------------------------- 5.0/42.2 MB 8.2 MB/s eta 0:00:05\n",
      "   ------ --------------------------------- 7.1/42.2 MB 8.4 MB/s eta 0:00:05\n",
      "   -------- ------------------------------- 9.2/42.2 MB 8.6 MB/s eta 0:00:04\n",
      "   ---------- ----------------------------- 11.3/42.2 MB 8.8 MB/s eta 0:00:04\n",
      "   ------------ --------------------------- 12.8/42.2 MB 8.8 MB/s eta 0:00:04\n",
      "   ------------- -------------------------- 14.7/42.2 MB 8.9 MB/s eta 0:00:04\n",
      "   --------------- ------------------------ 16.8/42.2 MB 9.0 MB/s eta 0:00:03\n",
      "   ----------------- ---------------------- 18.9/42.2 MB 9.0 MB/s eta 0:00:03\n",
      "   ------------------- -------------------- 20.4/42.2 MB 9.0 MB/s eta 0:00:03\n",
      "   --------------------- ------------------ 22.8/42.2 MB 9.0 MB/s eta 0:00:03\n",
      "   ----------------------- ---------------- 24.4/42.2 MB 8.9 MB/s eta 0:00:02\n",
      "   ------------------------- -------------- 26.5/42.2 MB 8.9 MB/s eta 0:00:02\n",
      "   -------------------------- ------------- 27.5/42.2 MB 8.7 MB/s eta 0:00:02\n",
      "   -------------------------- ------------- 28.3/42.2 MB 8.4 MB/s eta 0:00:02\n",
      "   --------------------------- ------------ 29.4/42.2 MB 8.1 MB/s eta 0:00:02\n",
      "   ----------------------------- ---------- 30.9/42.2 MB 8.1 MB/s eta 0:00:02\n",
      "   ------------------------------- -------- 32.8/42.2 MB 8.1 MB/s eta 0:00:02\n",
      "   -------------------------------- ------- 34.1/42.2 MB 8.1 MB/s eta 0:00:02\n",
      "   ---------------------------------- ----- 36.2/42.2 MB 8.1 MB/s eta 0:00:01\n",
      "   ------------------------------------ --- 38.0/42.2 MB 8.1 MB/s eta 0:00:01\n",
      "   ------------------------------------- -- 39.8/42.2 MB 8.1 MB/s eta 0:00:01\n",
      "   ---------------------------------------  41.7/42.2 MB 8.2 MB/s eta 0:00:01\n",
      "   ---------------------------------------- 42.2/42.2 MB 8.1 MB/s eta 0:00:00\n",
      "Using cached fsspec-2024.6.1-py3-none-any.whl (177 kB)\n",
      "Downloading joblib-1.4.2-py3-none-any.whl (301 kB)\n",
      "Downloading regex-2024.7.24-cp38-cp38-win_amd64.whl (269 kB)\n",
      "Downloading safetensors-0.4.4-cp38-none-win_amd64.whl (286 kB)\n",
      "Downloading threadpoolctl-3.5.0-py3-none-any.whl (18 kB)\n",
      "Downloading tokenizers-0.19.1-cp38-none-win_amd64.whl (2.2 MB)\n",
      "   ---------------------------------------- 0.0/2.2 MB ? eta -:--:--\n",
      "   ---------------------------- ----------- 1.6/2.2 MB 7.6 MB/s eta 0:00:01\n",
      "   ---------------------------------------- 2.2/2.2 MB 7.8 MB/s eta 0:00:00\n",
      "Downloading filelock-3.15.4-py3-none-any.whl (16 kB)\n",
      "Downloading networkx-3.1-py3-none-any.whl (2.1 MB)\n",
      "   ---------------------------------------- 0.0/2.1 MB ? eta -:--:--\n",
      "   ------------------------------ --------- 1.6/2.1 MB 8.4 MB/s eta 0:00:01\n",
      "   ---------------------------------------- 2.1/2.1 MB 7.7 MB/s eta 0:00:00\n",
      "Using cached sympy-1.13.2-py3-none-any.whl (6.2 MB)\n",
      "Using cached mpmath-1.3.0-py3-none-any.whl (536 kB)\n",
      "Installing collected packages: mpmath, tqdm, threadpoolctl, sympy, scipy, safetensors, regex, Pillow, networkx, joblib, fsspec, filelock, torch, scikit-learn, huggingface-hub, tokenizers, transformers, sentence-transformers\n",
      "Successfully installed Pillow-10.4.0 filelock-3.15.4 fsspec-2024.6.1 huggingface-hub-0.24.6 joblib-1.4.2 mpmath-1.3.0 networkx-3.1 regex-2024.7.24 safetensors-0.4.4 scikit-learn-1.3.2 scipy-1.10.1 sentence-transformers-3.0.1 sympy-1.13.2 threadpoolctl-3.5.0 tokenizers-0.19.1 torch-2.4.0 tqdm-4.66.5 transformers-4.44.2\n"
     ]
    }
   ],
   "source": [
    "!pip install -U sentence-transformers"
   ]
  },
  {
   "cell_type": "code",
   "execution_count": 3,
   "id": "ec1e55eb-35c8-47f7-be70-a61e4171e3d4",
   "metadata": {},
   "outputs": [
    {
     "name": "stdout",
     "output_type": "stream",
     "text": [
      "Collecting torch==2.3.1\n",
      "  Downloading torch-2.3.1-cp38-cp38-win_amd64.whl.metadata (26 kB)\n",
      "Requirement already satisfied: filelock in c:\\users\\jr119\\anaconda3\\envs\\nlp\\lib\\site-packages (from torch==2.3.1) (3.15.4)\n",
      "Requirement already satisfied: typing-extensions>=4.8.0 in c:\\users\\jr119\\anaconda3\\envs\\nlp\\lib\\site-packages (from torch==2.3.1) (4.11.0)\n",
      "Requirement already satisfied: sympy in c:\\users\\jr119\\anaconda3\\envs\\nlp\\lib\\site-packages (from torch==2.3.1) (1.13.2)\n",
      "Requirement already satisfied: networkx in c:\\users\\jr119\\anaconda3\\envs\\nlp\\lib\\site-packages (from torch==2.3.1) (3.1)\n",
      "Requirement already satisfied: jinja2 in c:\\users\\jr119\\anaconda3\\envs\\nlp\\lib\\site-packages (from torch==2.3.1) (3.1.4)\n",
      "Requirement already satisfied: fsspec in c:\\users\\jr119\\anaconda3\\envs\\nlp\\lib\\site-packages (from torch==2.3.1) (2024.6.1)\n",
      "Collecting mkl<=2021.4.0,>=2021.1.1 (from torch==2.3.1)\n",
      "  Using cached mkl-2021.4.0-py2.py3-none-win_amd64.whl.metadata (1.4 kB)\n",
      "Collecting intel-openmp==2021.* (from mkl<=2021.4.0,>=2021.1.1->torch==2.3.1)\n",
      "  Using cached intel_openmp-2021.4.0-py2.py3-none-win_amd64.whl.metadata (1.2 kB)\n",
      "Collecting tbb==2021.* (from mkl<=2021.4.0,>=2021.1.1->torch==2.3.1)\n",
      "  Using cached tbb-2021.13.1-py3-none-win_amd64.whl.metadata (1.1 kB)\n",
      "Requirement already satisfied: MarkupSafe>=2.0 in c:\\users\\jr119\\anaconda3\\envs\\nlp\\lib\\site-packages (from jinja2->torch==2.3.1) (2.1.3)\n",
      "Requirement already satisfied: mpmath<1.4,>=1.1.0 in c:\\users\\jr119\\anaconda3\\envs\\nlp\\lib\\site-packages (from sympy->torch==2.3.1) (1.3.0)\n",
      "Downloading torch-2.3.1-cp38-cp38-win_amd64.whl (159.8 MB)\n",
      "   ---------------------------------------- 0.0/159.8 MB ? eta -:--:--\n",
      "   ---------------------------------------- 1.3/159.8 MB 8.4 MB/s eta 0:00:19\n",
      "    --------------------------------------- 2.6/159.8 MB 6.6 MB/s eta 0:00:24\n",
      "   - -------------------------------------- 4.5/159.8 MB 7.4 MB/s eta 0:00:21\n",
      "   - -------------------------------------- 6.3/159.8 MB 7.7 MB/s eta 0:00:20\n",
      "   - -------------------------------------- 7.6/159.8 MB 7.6 MB/s eta 0:00:21\n",
      "   -- ------------------------------------- 9.4/159.8 MB 7.7 MB/s eta 0:00:20\n",
      "   -- ------------------------------------- 11.5/159.8 MB 8.0 MB/s eta 0:00:19\n",
      "   --- ------------------------------------ 13.1/159.8 MB 8.1 MB/s eta 0:00:19\n",
      "   --- ------------------------------------ 15.2/159.8 MB 8.1 MB/s eta 0:00:18\n",
      "   ---- ----------------------------------- 16.8/159.8 MB 8.3 MB/s eta 0:00:18\n",
      "   ---- ----------------------------------- 16.8/159.8 MB 8.3 MB/s eta 0:00:18\n",
      "   ---- ----------------------------------- 17.8/159.8 MB 7.3 MB/s eta 0:00:20\n",
      "   ---- ----------------------------------- 19.1/159.8 MB 7.0 MB/s eta 0:00:21\n",
      "   ----- ---------------------------------- 20.7/159.8 MB 7.1 MB/s eta 0:00:20\n",
      "   ----- ---------------------------------- 22.5/159.8 MB 7.1 MB/s eta 0:00:20\n",
      "   ------ --------------------------------- 24.4/159.8 MB 7.2 MB/s eta 0:00:19\n",
      "   ------ --------------------------------- 26.5/159.8 MB 7.4 MB/s eta 0:00:18\n",
      "   ------- -------------------------------- 28.6/159.8 MB 7.6 MB/s eta 0:00:18\n",
      "   ------- -------------------------------- 30.1/159.8 MB 7.5 MB/s eta 0:00:18\n",
      "   -------- ------------------------------- 32.2/159.8 MB 7.6 MB/s eta 0:00:17\n",
      "   -------- ------------------------------- 34.3/159.8 MB 7.7 MB/s eta 0:00:17\n",
      "   -------- ------------------------------- 35.7/159.8 MB 7.7 MB/s eta 0:00:17\n",
      "   --------- ------------------------------ 37.5/159.8 MB 7.7 MB/s eta 0:00:16\n",
      "   --------- ------------------------------ 38.8/159.8 MB 7.8 MB/s eta 0:00:16\n",
      "   ---------- ----------------------------- 40.9/159.8 MB 7.7 MB/s eta 0:00:16\n",
      "   ---------- ----------------------------- 43.0/159.8 MB 7.8 MB/s eta 0:00:15\n",
      "   ----------- ---------------------------- 44.3/159.8 MB 7.8 MB/s eta 0:00:15\n",
      "   ----------- ---------------------------- 46.1/159.8 MB 7.8 MB/s eta 0:00:15\n",
      "   ----------- ---------------------------- 47.7/159.8 MB 7.8 MB/s eta 0:00:15\n",
      "   ------------ --------------------------- 49.5/159.8 MB 7.8 MB/s eta 0:00:15\n",
      "   ------------ --------------------------- 50.9/159.8 MB 7.8 MB/s eta 0:00:14\n",
      "   ------------- -------------------------- 52.4/159.8 MB 7.8 MB/s eta 0:00:14\n",
      "   ------------- -------------------------- 54.0/159.8 MB 7.7 MB/s eta 0:00:14\n",
      "   ------------- -------------------------- 55.8/159.8 MB 7.8 MB/s eta 0:00:14\n",
      "   -------------- ------------------------- 57.4/159.8 MB 7.8 MB/s eta 0:00:14\n",
      "   -------------- ------------------------- 59.2/159.8 MB 7.8 MB/s eta 0:00:13\n",
      "   --------------- ------------------------ 60.8/159.8 MB 7.8 MB/s eta 0:00:13\n",
      "   --------------- ------------------------ 62.1/159.8 MB 7.7 MB/s eta 0:00:13\n",
      "   ---------------- ----------------------- 64.0/159.8 MB 7.8 MB/s eta 0:00:13\n",
      "   ---------------- ----------------------- 64.0/159.8 MB 7.8 MB/s eta 0:00:13\n",
      "   ---------------- ----------------------- 65.8/159.8 MB 7.6 MB/s eta 0:00:13\n",
      "   ---------------- ----------------------- 67.6/159.8 MB 7.6 MB/s eta 0:00:13\n",
      "   ----------------- ---------------------- 69.5/159.8 MB 7.6 MB/s eta 0:00:12\n",
      "   ----------------- ---------------------- 71.0/159.8 MB 7.6 MB/s eta 0:00:12\n",
      "   ------------------ --------------------- 72.6/159.8 MB 7.6 MB/s eta 0:00:12\n",
      "   ------------------ --------------------- 74.4/159.8 MB 7.6 MB/s eta 0:00:12\n",
      "   ------------------ --------------------- 74.4/159.8 MB 7.6 MB/s eta 0:00:12\n",
      "   ------------------ --------------------- 75.5/159.8 MB 7.4 MB/s eta 0:00:12\n",
      "   ------------------- -------------------- 77.1/159.8 MB 7.4 MB/s eta 0:00:12\n",
      "   ------------------- -------------------- 78.9/159.8 MB 7.4 MB/s eta 0:00:11\n",
      "   -------------------- ------------------- 80.5/159.8 MB 7.5 MB/s eta 0:00:11\n",
      "   -------------------- ------------------- 82.3/159.8 MB 7.5 MB/s eta 0:00:11\n",
      "   -------------------- ------------------- 83.9/159.8 MB 7.5 MB/s eta 0:00:11\n",
      "   --------------------- ------------------ 85.5/159.8 MB 7.5 MB/s eta 0:00:10\n",
      "   --------------------- ------------------ 87.6/159.8 MB 7.5 MB/s eta 0:00:10\n",
      "   ---------------------- ----------------- 89.7/159.8 MB 7.5 MB/s eta 0:00:10\n",
      "   ---------------------- ----------------- 91.5/159.8 MB 7.6 MB/s eta 0:00:10\n",
      "   ----------------------- ---------------- 92.8/159.8 MB 7.5 MB/s eta 0:00:09\n",
      "   ----------------------- ---------------- 94.6/159.8 MB 7.5 MB/s eta 0:00:09\n",
      "   ------------------------ --------------- 96.5/159.8 MB 7.6 MB/s eta 0:00:09\n",
      "   ------------------------ --------------- 97.8/159.8 MB 7.5 MB/s eta 0:00:09\n",
      "   ------------------------ --------------- 99.6/159.8 MB 7.6 MB/s eta 0:00:08\n",
      "   ------------------------- -------------- 101.2/159.8 MB 7.6 MB/s eta 0:00:08\n",
      "   ------------------------- -------------- 103.0/159.8 MB 7.6 MB/s eta 0:00:08\n",
      "   ------------------------- -------------- 103.8/159.8 MB 7.6 MB/s eta 0:00:08\n",
      "   -------------------------- ------------- 104.9/159.8 MB 7.5 MB/s eta 0:00:08\n",
      "   -------------------------- ------------- 106.2/159.8 MB 7.5 MB/s eta 0:00:08\n",
      "   --------------------------- ------------ 108.3/159.8 MB 7.5 MB/s eta 0:00:07\n",
      "   --------------------------- ------------ 109.6/159.8 MB 7.5 MB/s eta 0:00:07\n",
      "   --------------------------- ------------ 111.4/159.8 MB 7.5 MB/s eta 0:00:07\n",
      "   ---------------------------- ----------- 113.5/159.8 MB 7.5 MB/s eta 0:00:07\n",
      "   ---------------------------- ----------- 115.3/159.8 MB 7.6 MB/s eta 0:00:06\n",
      "   ----------------------------- ---------- 117.2/159.8 MB 7.6 MB/s eta 0:00:06\n",
      "   ----------------------------- ---------- 118.8/159.8 MB 7.6 MB/s eta 0:00:06\n",
      "   ----------------------------- ---------- 119.5/159.8 MB 7.5 MB/s eta 0:00:06\n",
      "   ------------------------------ --------- 120.3/159.8 MB 7.5 MB/s eta 0:00:06\n",
      "   ------------------------------ --------- 121.4/159.8 MB 7.5 MB/s eta 0:00:06\n",
      "   ------------------------------ --------- 123.2/159.8 MB 7.5 MB/s eta 0:00:05\n",
      "   ------------------------------- -------- 125.3/159.8 MB 7.5 MB/s eta 0:00:05\n",
      "   ------------------------------- -------- 127.1/159.8 MB 7.5 MB/s eta 0:00:05\n",
      "   -------------------------------- ------- 129.0/159.8 MB 7.5 MB/s eta 0:00:05\n",
      "   -------------------------------- ------- 130.0/159.8 MB 7.5 MB/s eta 0:00:04\n",
      "   -------------------------------- ------- 131.1/159.8 MB 7.4 MB/s eta 0:00:04\n",
      "   --------------------------------- ------ 132.6/159.8 MB 7.5 MB/s eta 0:00:04\n",
      "   --------------------------------- ------ 135.0/159.8 MB 7.5 MB/s eta 0:00:04\n",
      "   ---------------------------------- ----- 136.3/159.8 MB 7.5 MB/s eta 0:00:04\n",
      "   ---------------------------------- ----- 136.6/159.8 MB 7.4 MB/s eta 0:00:04\n",
      "   ---------------------------------- ----- 138.1/159.8 MB 7.4 MB/s eta 0:00:03\n",
      "   ----------------------------------- ---- 140.0/159.8 MB 7.4 MB/s eta 0:00:03\n",
      "   ----------------------------------- ---- 141.6/159.8 MB 7.4 MB/s eta 0:00:03\n",
      "   ----------------------------------- ---- 143.4/159.8 MB 7.4 MB/s eta 0:00:03\n",
      "   ------------------------------------ --- 145.0/159.8 MB 7.4 MB/s eta 0:00:03\n",
      "   ------------------------------------ --- 146.5/159.8 MB 7.4 MB/s eta 0:00:02\n",
      "   ------------------------------------- -- 148.4/159.8 MB 7.4 MB/s eta 0:00:02\n",
      "   ------------------------------------- -- 150.2/159.8 MB 7.4 MB/s eta 0:00:02\n",
      "   ------------------------------------- -- 151.5/159.8 MB 7.4 MB/s eta 0:00:02\n",
      "   -------------------------------------- - 152.8/159.8 MB 7.4 MB/s eta 0:00:01\n",
      "   -------------------------------------- - 154.4/159.8 MB 7.4 MB/s eta 0:00:01\n",
      "   ---------------------------------------  156.2/159.8 MB 7.4 MB/s eta 0:00:01\n",
      "   ---------------------------------------  157.5/159.8 MB 7.4 MB/s eta 0:00:01\n",
      "   ---------------------------------------  159.1/159.8 MB 7.4 MB/s eta 0:00:01\n",
      "   ---------------------------------------  159.6/159.8 MB 7.4 MB/s eta 0:00:01\n",
      "   ---------------------------------------- 159.8/159.8 MB 7.3 MB/s eta 0:00:00\n",
      "Using cached mkl-2021.4.0-py2.py3-none-win_amd64.whl (228.5 MB)\n",
      "Using cached intel_openmp-2021.4.0-py2.py3-none-win_amd64.whl (3.5 MB)\n",
      "Using cached tbb-2021.13.1-py3-none-win_amd64.whl (286 kB)\n",
      "Installing collected packages: tbb, intel-openmp, mkl, torch\n",
      "  Attempting uninstall: torch\n",
      "    Found existing installation: torch 2.4.0\n",
      "    Uninstalling torch-2.4.0:\n",
      "      Successfully uninstalled torch-2.4.0\n",
      "Successfully installed intel-openmp-2021.4.0 mkl-2021.4.0 tbb-2021.13.1 torch-2.3.1\n"
     ]
    }
   ],
   "source": [
    "!pip install torch==2.3.1"
   ]
  },
  {
   "cell_type": "code",
   "execution_count": 69,
   "id": "2392516a-750e-4f89-8a63-f4d263fb7105",
   "metadata": {},
   "outputs": [],
   "source": [
    "import os\n",
    "import faiss\n",
    "import numpy as np\n",
    "from langchain.text_splitter import RecursiveCharacterTextSplitter\n",
    "from sentence_transformers import SentenceTransformer\n",
    "from sklearn.metrics.pairwise import cosine_similarity"
   ]
  },
  {
   "cell_type": "code",
   "execution_count": 73,
   "id": "aa0e07ce-9402-4fe8-a29b-d7d5793c7635",
   "metadata": {},
   "outputs": [],
   "source": [
    "def read_txt_files_from_folder(folder_path):\n",
    "    documents = {}\n",
    "    for filename in os.listdir(folder_path):\n",
    "        if filename.endswith(\".txt\"):\n",
    "            file_path = os.path.join(folder_path, filename)\n",
    "            with open(file_path, 'r', encoding='utf-8') as file:\n",
    "                documents[filename] = file.read()\n",
    "    return documents"
   ]
  },
  {
   "cell_type": "code",
   "execution_count": 74,
   "id": "0de69c50-0610-4a66-8af4-bcd2c4de0f59",
   "metadata": {},
   "outputs": [],
   "source": [
    "def chunk_text(text, chunk_size=100):\n",
    "    # Divide el texto en chunks de tamaño especificado (en palabras)\n",
    "    words = text.split()\n",
    "    for i in range(0, len(words), chunk_size):\n",
    "        yield ' '.join(words[i:i + chunk_size])"
   ]
  },
  {
   "cell_type": "code",
   "execution_count": 75,
   "id": "2c7d2351-41c2-4cca-a48d-13dccb6fa415",
   "metadata": {},
   "outputs": [
    {
     "data": {
      "application/vnd.jupyter.widget-view+json": {
       "model_id": "a1b7f860c62a4b259956bde58c0738a2",
       "version_major": 2,
       "version_minor": 0
      },
      "text/plain": [
       "modules.json:   0%|          | 0.00/229 [00:00<?, ?B/s]"
      ]
     },
     "metadata": {},
     "output_type": "display_data"
    },
    {
     "name": "stderr",
     "output_type": "stream",
     "text": [
      "C:\\Users\\jr119\\AppData\\Local\\Programs\\Python\\Python312\\Lib\\site-packages\\huggingface_hub\\file_download.py:159: UserWarning: `huggingface_hub` cache-system uses symlinks by default to efficiently store duplicated files but your machine does not support them in C:\\Users\\jr119\\.cache\\huggingface\\hub\\models--sentence-transformers--paraphrase-multilingual-MiniLM-L12-v2. Caching files will still work but in a degraded version that might require more space on your disk. This warning can be disabled by setting the `HF_HUB_DISABLE_SYMLINKS_WARNING` environment variable. For more details, see https://huggingface.co/docs/huggingface_hub/how-to-cache#limitations.\n",
      "To support symlinks on Windows, you either need to activate Developer Mode or to run Python as an administrator. In order to see activate developer mode, see this article: https://docs.microsoft.com/en-us/windows/apps/get-started/enable-your-device-for-development\n",
      "  warnings.warn(message)\n"
     ]
    },
    {
     "data": {
      "application/vnd.jupyter.widget-view+json": {
       "model_id": "50d70375c8fb47ee906fc69fb812a776",
       "version_major": 2,
       "version_minor": 0
      },
      "text/plain": [
       "config_sentence_transformers.json:   0%|          | 0.00/122 [00:00<?, ?B/s]"
      ]
     },
     "metadata": {},
     "output_type": "display_data"
    },
    {
     "data": {
      "application/vnd.jupyter.widget-view+json": {
       "model_id": "961271c70de641a8bdc1dced9edd14e3",
       "version_major": 2,
       "version_minor": 0
      },
      "text/plain": [
       "README.md:   0%|          | 0.00/4.12k [00:00<?, ?B/s]"
      ]
     },
     "metadata": {},
     "output_type": "display_data"
    },
    {
     "data": {
      "application/vnd.jupyter.widget-view+json": {
       "model_id": "b27e5d05076e401e82b50f07da78a52f",
       "version_major": 2,
       "version_minor": 0
      },
      "text/plain": [
       "sentence_bert_config.json:   0%|          | 0.00/53.0 [00:00<?, ?B/s]"
      ]
     },
     "metadata": {},
     "output_type": "display_data"
    },
    {
     "data": {
      "application/vnd.jupyter.widget-view+json": {
       "model_id": "4e56d029e83341948bf7faa630ca3026",
       "version_major": 2,
       "version_minor": 0
      },
      "text/plain": [
       "config.json:   0%|          | 0.00/645 [00:00<?, ?B/s]"
      ]
     },
     "metadata": {},
     "output_type": "display_data"
    },
    {
     "data": {
      "application/vnd.jupyter.widget-view+json": {
       "model_id": "4dcfe655f9c74f6c8f22b55ddb872a2a",
       "version_major": 2,
       "version_minor": 0
      },
      "text/plain": [
       "model.safetensors:   0%|          | 0.00/471M [00:00<?, ?B/s]"
      ]
     },
     "metadata": {},
     "output_type": "display_data"
    },
    {
     "data": {
      "application/vnd.jupyter.widget-view+json": {
       "model_id": "805ec7b2986d4044a17bfb25b7cd7d49",
       "version_major": 2,
       "version_minor": 0
      },
      "text/plain": [
       "tokenizer_config.json:   0%|          | 0.00/480 [00:00<?, ?B/s]"
      ]
     },
     "metadata": {},
     "output_type": "display_data"
    },
    {
     "data": {
      "application/vnd.jupyter.widget-view+json": {
       "model_id": "aabaaa5dc4c743c19c0f1f628a8237b2",
       "version_major": 2,
       "version_minor": 0
      },
      "text/plain": [
       "tokenizer.json:   0%|          | 0.00/9.08M [00:00<?, ?B/s]"
      ]
     },
     "metadata": {},
     "output_type": "display_data"
    },
    {
     "data": {
      "application/vnd.jupyter.widget-view+json": {
       "model_id": "41e10e4ee38744f9936f1d4a34d8a029",
       "version_major": 2,
       "version_minor": 0
      },
      "text/plain": [
       "special_tokens_map.json:   0%|          | 0.00/239 [00:00<?, ?B/s]"
      ]
     },
     "metadata": {},
     "output_type": "display_data"
    },
    {
     "name": "stderr",
     "output_type": "stream",
     "text": [
      "C:\\Users\\jr119\\AppData\\Local\\Programs\\Python\\Python312\\Lib\\site-packages\\transformers\\tokenization_utils_base.py:1601: FutureWarning: `clean_up_tokenization_spaces` was not set. It will be set to `True` by default. This behavior will be depracted in transformers v4.45, and will be then set to `False` by default. For more details check this issue: https://github.com/huggingface/transformers/issues/31884\n",
      "  warnings.warn(\n"
     ]
    },
    {
     "data": {
      "application/vnd.jupyter.widget-view+json": {
       "model_id": "214c1829df5a44bb90cb9fd99f809b20",
       "version_major": 2,
       "version_minor": 0
      },
      "text/plain": [
       "1_Pooling/config.json:   0%|          | 0.00/190 [00:00<?, ?B/s]"
      ]
     },
     "metadata": {},
     "output_type": "display_data"
    }
   ],
   "source": [
    "model = SentenceTransformer('paraphrase-multilingual-MiniLM-L12-v2')\n",
    "\n",
    "# Definimos el modelo y generamos los embeddings de chunks de texto\n",
    "def create_embeddings(documents):\n",
    "    embeddings = {}\n",
    "    for filename, text in documents.items():\n",
    "        chunks = list(chunk_text(text))\n",
    "        embeddings[filename] = model.encode(chunks)\n",
    "    return embeddings"
   ]
  },
  {
   "cell_type": "code",
   "execution_count": 76,
   "id": "f559faeb-2e25-4b95-96fd-8675f5a591fa",
   "metadata": {},
   "outputs": [],
   "source": [
    "def store_embeddings_and_chunks(embeddings, output_folder='embeddings'):\n",
    "    if not os.path.exists(output_folder):\n",
    "        os.makedirs(output_folder)\n",
    "    \n",
    "    for filename, emb in embeddings.items():\n",
    "        np.save(os.path.join(output_folder, filename + '_embeddings.npy'), emb)"
   ]
  },
  {
   "cell_type": "code",
   "execution_count": 77,
   "id": "1c6ea8cb-b002-4e53-9b21-fc53cef2bb9b",
   "metadata": {},
   "outputs": [],
   "source": [
    "def store_chunks(documents, output_folder='chunks'):\n",
    "    if not os.path.exists(output_folder):\n",
    "        os.makedirs(output_folder)\n",
    "    \n",
    "    for filename, text in documents.items():\n",
    "        chunks = list(chunk_text(text))\n",
    "        with open(os.path.join(output_folder, filename + '_chunks.txt'), 'w', encoding='utf-8') as file:\n",
    "            for chunk in chunks:\n",
    "                file.write(chunk + '\\n\\n')"
   ]
  },
  {
   "cell_type": "code",
   "execution_count": 78,
   "id": "103d9b0f-7a53-4f71-9163-1ef8d3bb4920",
   "metadata": {},
   "outputs": [],
   "source": [
    "def find_related_documents(query, embeddings, documents, top_k=10):\n",
    "    # Crear el embedding de la pregunta\n",
    "    query_embedding = model.encode([query])\n",
    "    \n",
    "    related_docs = []\n",
    "    \n",
    "    for filename, emb in embeddings.items():\n",
    "        similarities = cosine_similarity(query_embedding, emb)\n",
    "        avg_similarity = np.mean(similarities)\n",
    "        related_docs.append((filename, avg_similarity))\n",
    "    \n",
    "    # Ordenar por similitud\n",
    "    related_docs = sorted(related_docs, key=lambda x: x[1], reverse=True)\n",
    "    \n",
    "    # Se muestran los k documentos relacionados\n",
    "    for doc, score in related_docs[:top_k]:\n",
    "        print(f\"Documento: {doc}, Similitud: {score}\")"
   ]
  },
  {
   "cell_type": "code",
   "execution_count": 79,
   "id": "1403885d-4e90-4d53-914b-d44991c9bfa9",
   "metadata": {},
   "outputs": [
    {
     "name": "stdout",
     "output_type": "stream",
     "text": [
      "Documento: Cristiano Ronaldo.txt, Similitud: 0.4913540780544281\n",
      "Documento: Robert Lewandowski.txt, Similitud: 0.36871346831321716\n",
      "Documento: Don Quijote.txt, Similitud: 0.16215601563453674\n"
     ]
    }
   ],
   "source": [
    "# Ejemplo de uso\n",
    "folder_path = 'C:/Users/jr119/OneDrive/Documentos/TFM Files' # Ruta de archivos locales\n",
    "documents = read_txt_files_from_folder(folder_path)\n",
    "embeddings = create_embeddings(documents)\n",
    "\n",
    "# sirve para almacenar los chunks y embeddings de ser necesario\n",
    "store_embeddings_and_chunks(embeddings)\n",
    "store_chunks(documents)\n",
    "\n",
    "# Buscaremos que documento tiene una mayor relacion con la pregunta (como se puede mejorar la similitud)\n",
    "query = \"¿Quien es Cristiano Ronaldo?\"\n",
    "find_related_documents(query, embeddings, documents)"
   ]
  },
  {
   "cell_type": "code",
   "execution_count": null,
   "id": "c36436ce-7cf1-458d-a720-c33c7536faba",
   "metadata": {},
   "outputs": [],
   "source": []
  }
 ],
 "metadata": {
  "kernelspec": {
   "display_name": "Python 3 (ipykernel)",
   "language": "python",
   "name": "python3"
  },
  "language_info": {
   "codemirror_mode": {
    "name": "ipython",
    "version": 3
   },
   "file_extension": ".py",
   "mimetype": "text/x-python",
   "name": "python",
   "nbconvert_exporter": "python",
   "pygments_lexer": "ipython3",
   "version": "3.12.0"
  }
 },
 "nbformat": 4,
 "nbformat_minor": 5
}
