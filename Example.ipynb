{
 "cells": [
  {
   "cell_type": "code",
   "execution_count": 11,
   "metadata": {},
   "outputs": [],
   "source": [
    "from AudioClass import Audio\n",
    "from TranscriptionFunctions import transcribe_audio\n",
    "from DownloadFunctions import download_audio\n",
    "\n",
    "youtube_url = \"https://www.youtube.com/watch?v=jNQXAC9IVRw\"\n",
    "\n",
    "#Creamos el objeto de la clase Audio\n",
    "ytaudio = Audio(folder_name=\"test2\", url=youtube_url)"
   ]
  },
  {
   "cell_type": "code",
   "execution_count": 12,
   "metadata": {},
   "outputs": [],
   "source": [
    "#Descargamos el audio\n",
    "download_audio(ytaudio)"
   ]
  },
  {
   "cell_type": "code",
   "execution_count": 13,
   "metadata": {},
   "outputs": [
    {
     "name": "stderr",
     "output_type": "stream",
     "text": [
      "c:\\Users\\Jaime\\anaconda3\\envs\\TFMenv\\Lib\\site-packages\\transformers\\models\\whisper\\generation_whisper.py:483: FutureWarning: The input name `inputs` is deprecated. Please make sure to use `input_features` instead.\n",
      "  warnings.warn(\n",
      "Due to a bug fix in https://github.com/huggingface/transformers/pull/28687 transcription using a multilingual Whisper will default to language detection followed by transcription instead of translation to English.This might be a breaking change for your use case. If you want to instead always translate your audio to English, make sure to pass `language='en'`.\n",
      "Passing a tuple of `past_key_values` is deprecated and will be removed in Transformers v4.43.0. You should pass an instance of `EncoderDecoderCache` instead, e.g. `past_key_values=EncoderDecoderCache.from_legacy_cache(past_key_values)`.\n",
      "The attention mask is not set and cannot be inferred from input because pad token is same as eos token.As a consequence, you may observe unexpected behavior. Please pass your input's `attention_mask` to obtain reliable results.\n"
     ]
    }
   ],
   "source": [
    "#Transcribimos el audio\n",
    "#Hay que instalar ffmpeg para que funcione Whisper\n",
    "transcribe_audio(ytaudio)"
   ]
  },
  {
   "cell_type": "code",
   "execution_count": 14,
   "metadata": {},
   "outputs": [],
   "source": [
    "del ytaudio #Si se borrara el objeto no se borra la carpeta"
   ]
  },
  {
   "cell_type": "code",
   "execution_count": 16,
   "metadata": {},
   "outputs": [
    {
     "name": "stdout",
     "output_type": "stream",
     "text": [
      "True\n",
      "{'text': \" All Right so here we are in front of the elephants. The Cool thing about this is the really really, REALLY long front and that's cool. And thats pretty Much all i Have to say.\", 'chunks': [{'timestamp': (0.0, 4.0), 'text': ' All Right so here we are in front of the elephants.'}, {'timestamp': (4.0, 14.0), 'text': \" The Cool thing about this is the really really, REALLY long front and that's cool.\"}, {'timestamp': (14.0, 19.0), 'text': ' And thats pretty Much all i Have to say.'}]}\n"
     ]
    }
   ],
   "source": [
    "ytaudio = Audio(folder_name=\"test2\", url=youtube_url) #Creamos el objeto de la clase Audio en la carpeta anterior y misma url\n",
    "print(ytaudio.downloaded) #Recuperamos la descarga y la transcripción\n",
    "print(ytaudio.transcription)"
   ]
  }
 ],
 "metadata": {
  "kernelspec": {
   "display_name": "TFMenv",
   "language": "python",
   "name": "python3"
  },
  "language_info": {
   "codemirror_mode": {
    "name": "ipython",
    "version": 3
   },
   "file_extension": ".py",
   "mimetype": "text/x-python",
   "name": "python",
   "nbconvert_exporter": "python",
   "pygments_lexer": "ipython3",
   "version": "3.12.4"
  }
 },
 "nbformat": 4,
 "nbformat_minor": 2
}
