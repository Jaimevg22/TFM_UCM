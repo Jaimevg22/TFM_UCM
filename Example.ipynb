{
 "cells": [
  {
   "cell_type": "code",
   "execution_count": 1,
   "metadata": {},
   "outputs": [
    {
     "name": "stderr",
     "output_type": "stream",
     "text": [
      "c:\\Users\\Jaime\\anaconda3\\envs\\TFMenv\\Lib\\site-packages\\tqdm\\auto.py:21: TqdmWarning: IProgress not found. Please update jupyter and ipywidgets. See https://ipywidgets.readthedocs.io/en/stable/user_install.html\n",
      "  from .autonotebook import tqdm as notebook_tqdm\n"
     ]
    }
   ],
   "source": [
    "from AudioClass import Audio\n",
    "from TranscriptionFunctions import transcribe_audio_slf, transcribe_audio_clf\n",
    "from DownloadFunctions import download_audio\n",
    "\n",
    "youtube_url = \"https://www.youtube.com/watch?v=jNQXAC9IVRw\"\n",
    "\n",
    "#Creamos el objeto de la clase Audio\n",
    "ytaudio = Audio(folder_name=\"test\", url=youtube_url)"
   ]
  },
  {
   "cell_type": "code",
   "execution_count": 2,
   "metadata": {},
   "outputs": [],
   "source": [
    "#Descargamos el audio\n",
    "download_audio(ytaudio)"
   ]
  },
  {
   "cell_type": "code",
   "execution_count": 3,
   "metadata": {},
   "outputs": [
    {
     "ename": "Exception",
     "evalue": "Audio file not downloaded",
     "output_type": "error",
     "traceback": [
      "\u001b[1;31m---------------------------------------------------------------------------\u001b[0m",
      "\u001b[1;31mException\u001b[0m                                 Traceback (most recent call last)",
      "Cell \u001b[1;32mIn[3], line 2\u001b[0m\n\u001b[0;32m      1\u001b[0m \u001b[38;5;66;03m#Transcribimos el audio\u001b[39;00m\n\u001b[1;32m----> 2\u001b[0m \u001b[43mtranscribe_audio_clf\u001b[49m\u001b[43m(\u001b[49m\u001b[43mytaudio\u001b[49m\u001b[43m)\u001b[49m\n",
      "File \u001b[1;32mc:\\Users\\Jaime\\OneDrive\\Escritorio\\TFM_UCM\\TranscriptionFunctions.py:68\u001b[0m, in \u001b[0;36mtranscribe_audio_clf\u001b[1;34m(ytaudio)\u001b[0m\n\u001b[0;32m     65\u001b[0m \u001b[38;5;28;01mdef\u001b[39;00m \u001b[38;5;21mtranscribe_audio_clf\u001b[39m(ytaudio : Audio) \u001b[38;5;241m-\u001b[39m\u001b[38;5;241m>\u001b[39m \u001b[38;5;28mstr\u001b[39m:\n\u001b[0;32m     67\u001b[0m     \u001b[38;5;28;01mif\u001b[39;00m \u001b[38;5;129;01mnot\u001b[39;00m ytaudio\u001b[38;5;241m.\u001b[39mdownloaded:\n\u001b[1;32m---> 68\u001b[0m         \u001b[38;5;28;01mraise\u001b[39;00m \u001b[38;5;167;01mException\u001b[39;00m(\u001b[38;5;124m\"\u001b[39m\u001b[38;5;124mAudio file not downloaded\u001b[39m\u001b[38;5;124m\"\u001b[39m)\n\u001b[0;32m     70\u001b[0m     model, processor, device, torch_dtype \u001b[38;5;241m=\u001b[39m get_model()\n\u001b[0;32m     72\u001b[0m     pipe \u001b[38;5;241m=\u001b[39m pipeline(\n\u001b[0;32m     73\u001b[0m         \u001b[38;5;124m\"\u001b[39m\u001b[38;5;124mautomatic-speech-recognition\u001b[39m\u001b[38;5;124m\"\u001b[39m,\n\u001b[0;32m     74\u001b[0m         model\u001b[38;5;241m=\u001b[39mmodel,\n\u001b[1;32m   (...)\u001b[0m\n\u001b[0;32m     82\u001b[0m         return_timestamps\u001b[38;5;241m=\u001b[39m\u001b[38;5;28;01mTrue\u001b[39;00m\n\u001b[0;32m     83\u001b[0m     )\n",
      "\u001b[1;31mException\u001b[0m: Audio file not downloaded"
     ]
    }
   ],
   "source": [
    "#Transcribimos el audio\n",
    "#Hay que instalar ffmpeg para que funcione Whisper\n",
    "transcribe_audio_clf(ytaudio)"
   ]
  }
 ],
 "metadata": {
  "kernelspec": {
   "display_name": "TFMenv",
   "language": "python",
   "name": "python3"
  },
  "language_info": {
   "codemirror_mode": {
    "name": "ipython",
    "version": 3
   },
   "file_extension": ".py",
   "mimetype": "text/x-python",
   "name": "python",
   "nbconvert_exporter": "python",
   "pygments_lexer": "ipython3",
   "version": "3.12.4"
  }
 },
 "nbformat": 4,
 "nbformat_minor": 2
}
