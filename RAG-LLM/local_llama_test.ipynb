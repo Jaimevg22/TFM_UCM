{
 "cells": [
  {
   "cell_type": "code",
   "execution_count": 33,
   "metadata": {},
   "outputs": [],
   "source": [
    "# %pip install llama_index\n",
    "# %pip install llama-index-embeddings-huggingface\n",
    "# %pip install llama-index-llms-ollama"
   ]
  },
  {
   "cell_type": "code",
   "execution_count": 1,
   "metadata": {},
   "outputs": [
    {
     "name": "stdout",
     "output_type": "stream",
     "text": [
      "GPU is available\n"
     ]
    }
   ],
   "source": [
    "import torch\n",
    "# Verificar si la GPU está disponible\n",
    "if torch.cuda.is_available():\n",
    "    device = torch.device(\"cuda\")\n",
    "    print(\"GPU is available\")\n",
    "else:\n",
    "    device = torch.device(\"cpu\")\n",
    "    print(\"GPU is not available, using CPU\")\n",
    "\n",
    "device = torch.device(\"cuda\")\n"
   ]
  },
  {
   "cell_type": "code",
   "execution_count": 2,
   "metadata": {},
   "outputs": [
    {
     "name": "stderr",
     "output_type": "stream",
     "text": [
      "c:\\Users\\gmsol\\anaconda3\\envs\\DeepLearningGPU\\lib\\site-packages\\tqdm\\auto.py:21: TqdmWarning: IProgress not found. Please update jupyter and ipywidgets. See https://ipywidgets.readthedocs.io/en/stable/user_install.html\n",
      "  from .autonotebook import tqdm as notebook_tqdm\n"
     ]
    }
   ],
   "source": [
    "#!/usr/bin/env python3\n",
    "# -*- coding: utf-8 -*-\n",
    "\"\"\"\n",
    "Created on Fri Aug  9 12:10:23 2024\n",
    "\n",
    "@author: eduardocarreroyubero\n",
    "\"\"\"\n",
    "\n",
    "# !pip install llama-index\n",
    "# !pip install llama-index-embeddings-huggingface\n",
    "# !pip install llama-index-llms-ollama\n",
    "\n",
    "from llama_index.core import VectorStoreIndex, SimpleDirectoryReader, Settings\n",
    "from llama_index.embeddings.huggingface import HuggingFaceEmbedding\n",
    "from llama_index.llms.ollama import Ollama\n",
    "\n",
    "api_key = \"PONER LA TUYA\"\n",
    "\n",
    "documents = SimpleDirectoryReader(\"C:/Users/gmsol/Desktop/videodescargas/transcripciones\").load_data()\n",
    "\n",
    "# bge-base embedding model\n",
    "Settings.embed_model = HuggingFaceEmbedding(model_name=\"BAAI/bge-base-en-v1.5\")\n",
    "\n",
    "# ollama\n",
    "# importante: installar ollama y levantar el modelo que quieras usar por linea de comandos (https://github.com/ollama/ollama?tab=readme-ov-file)\n",
    "Settings.llm = Ollama(model=\"llama3.1\", request_timeout=360.0, device_map=device)\n",
    "# Settings.llm.to(device)"
   ]
  },
  {
   "cell_type": "code",
   "execution_count": 10,
   "metadata": {},
   "outputs": [
    {
     "name": "stdout",
     "output_type": "stream",
     "text": [
      "Loaded 4 docs\n"
     ]
    }
   ],
   "source": [
    "print(f\"Loaded {len(documents)} docs\")"
   ]
  },
  {
   "cell_type": "code",
   "execution_count": 3,
   "metadata": {},
   "outputs": [
    {
     "data": {
      "text/plain": [
       "'llama3.1'"
      ]
     },
     "execution_count": 3,
     "metadata": {},
     "output_type": "execute_result"
    }
   ],
   "source": [
    "Settings.llm.model"
   ]
  },
  {
   "cell_type": "code",
   "execution_count": 4,
   "metadata": {},
   "outputs": [
    {
     "name": "stderr",
     "output_type": "stream",
     "text": [
      "c:\\Users\\gmsol\\anaconda3\\envs\\DeepLearningGPU\\lib\\site-packages\\transformers\\models\\bert\\modeling_bert.py:439: UserWarning: 1Torch was not compiled with flash attention. (Triggered internally at ..\\aten\\src\\ATen\\native\\transformers\\cuda\\sdp_utils.cpp:455.)\n",
      "  attn_output = torch.nn.functional.scaled_dot_product_attention(\n"
     ]
    }
   ],
   "source": [
    "\n",
    "index = VectorStoreIndex.from_documents(\n",
    "    documents,\n",
    ")\n",
    "\n",
    "query_engine = index.as_query_engine()\n"
   ]
  },
  {
   "cell_type": "code",
   "execution_count": 20,
   "metadata": {},
   "outputs": [
    {
     "name": "stdout",
     "output_type": "stream",
     "text": [
      "El Sol probablemente seguiría siendo la campeón en este enfrentamiento, debido a su enorme tamaño y masa. La esfera de leones tendría un radio de unos 400 km, lo que haría que sea insignificante en comparación con el radio del Sol, que es de 700.000 kilómetros. Además, la energía necesaria para destruir el Sol sería extremadamente alta y difícil de alcanzar incluso con tecnología avanzada.\n"
     ]
    }
   ],
   "source": [
    "question = \"quien ganaria, leones o el sol?\"\n",
    "response = query_engine.query(question)\n",
    "print(response)\n",
    "# Se realizarán obras para mejorar y ampliar las infraestructuras hidráulicas en determinados municipios de las Illes Balears, incluyendo la mejora del tratamiento EDAR de Sant Lluís.\n"
   ]
  },
  {
   "cell_type": "code",
   "execution_count": 18,
   "metadata": {},
   "outputs": [
    {
     "data": {
      "text/plain": [
       "'Regular la temperatura corporal es un ritmo muy importante para los seres vivos. Algo que ayuda a sentirse bien es establecer hábitos regulares, incluyendo acostarse y despertar a las mismas horas cada día. Esto puede ayudar a mejorar la calidad del sueño y sentirse más descansado.'"
      ]
     },
     "execution_count": 18,
     "metadata": {},
     "output_type": "execute_result"
    }
   ],
   "source": [
    "\n",
    "response.response\n"
   ]
  },
  {
   "cell_type": "code",
   "execution_count": 21,
   "metadata": {},
   "outputs": [
    {
     "data": {
      "text/plain": [
       "{'24d19ffb-baf6-4e51-bc69-076b0882e3a8': {'file_path': 'C:\\\\Users\\\\gmsol\\\\Desktop\\\\videodescargas\\\\transcripciones\\\\Cómo Podría 1 Trillón de Leones Ganarle al Sol NRAbqNtUgdUm4a.txt',\n",
       "  'file_name': 'Cómo Podría 1 Trillón de Leones Ganarle al Sol NRAbqNtUgdUm4a.txt',\n",
       "  'file_type': 'text/plain',\n",
       "  'file_size': 11994,\n",
       "  'creation_date': '2024-08-24',\n",
       "  'last_modified_date': '2024-08-24'},\n",
       " '7c0691f5-b9b0-4247-b72b-20e64deab96b': {'file_path': 'C:\\\\Users\\\\gmsol\\\\Desktop\\\\videodescargas\\\\transcripciones\\\\Cómo Podría 1 Trillón de Leones Ganarle al Sol NRAbqNtUgdUm4a.txt',\n",
       "  'file_name': 'Cómo Podría 1 Trillón de Leones Ganarle al Sol NRAbqNtUgdUm4a.txt',\n",
       "  'file_type': 'text/plain',\n",
       "  'file_size': 11994,\n",
       "  'creation_date': '2024-08-24',\n",
       "  'last_modified_date': '2024-08-24'}}"
      ]
     },
     "execution_count": 21,
     "metadata": {},
     "output_type": "execute_result"
    }
   ],
   "source": [
    "\n",
    "response.metadata"
   ]
  }
 ],
 "metadata": {
  "kernelspec": {
   "display_name": "DeepLearningGPU",
   "language": "python",
   "name": "python3"
  },
  "language_info": {
   "codemirror_mode": {
    "name": "ipython",
    "version": 3
   },
   "file_extension": ".py",
   "mimetype": "text/x-python",
   "name": "python",
   "nbconvert_exporter": "python",
   "pygments_lexer": "ipython3",
   "version": "3.10.13"
  }
 },
 "nbformat": 4,
 "nbformat_minor": 2
}
