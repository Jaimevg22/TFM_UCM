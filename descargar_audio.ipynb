{
 "cells": [
  {
   "cell_type": "code",
   "execution_count": 14,
   "metadata": {},
   "outputs": [
    {
     "name": "stdout",
     "output_type": "stream",
     "text": [
      "El string 'https://www.youtube.com/watch?v=NRAbqNtUgdU&t' ya está presente en registro_audios.txt.\n"
     ]
    }
   ],
   "source": [
    "\n",
    "url_video_yt = \"https://www.youtube.com/watch?v=NRAbqNtUgdU&t\"\n",
    "txt_file = \"listado_descargar.txt\"\n",
    "\n",
    "# Nombre del archivo .txt donde se buscará el string\n",
    "registro = \"registro_audios.txt\"\n",
    "\n",
    "# Leer el archivo y verificar si el string está presente\n",
    "string_found = False\n",
    "with open(registro, 'r') as file:\n",
    "    for line in file:\n",
    "        if url_video_yt in line:\n",
    "            string_found = True\n",
    "            break\n",
    "\n",
    "# Si el string no está presente, ejecutar el bloque de código\n",
    "if not string_found:\n",
    "\n",
    "    with open(txt_file, 'a') as file:\n",
    "        file.write(url_video_yt + '\\n')\n",
    "else:\n",
    "    print(f\"El string '{url_video_yt}' ya está presente en {registro}.\")\n"
   ]
  },
  {
   "cell_type": "code",
   "execution_count": 15,
   "metadata": {},
   "outputs": [],
   "source": [
    "\n",
    "\n",
    "\n",
    "new_txt_file = \"registro_audios.txt\"\n",
    "\n",
    "# Leer el contenido del archivo original y añadirlo al final del nuevo archivo\n",
    "with open(txt_file, 'r') as original_file:\n",
    "    with open(new_txt_file, 'a') as new_file:  # 'a' añade al final del archivo si ya existe\n",
    "        for line in original_file:\n",
    "            new_file.write(line)\n",
    "\n",
    "# print(f\"El contenido de {original_txt_file} ha sido añadido a {new_txt_file}\")\n"
   ]
  },
  {
   "cell_type": "code",
   "execution_count": 16,
   "metadata": {},
   "outputs": [],
   "source": [
    "import subprocess\n",
    "import subprocess\n",
    "import os\n",
    "import shutil\n",
    "import glob\n",
    "\n",
    "\n",
    "bat_file = \"descargar.bat\"\n",
    "subprocess.run([bat_file], shell=True)\n",
    "subdirectory = \"audios\"\n",
    "\n",
    "os.makedirs(subdirectory, exist_ok=True)\n",
    "\n",
    "\n",
    "m4a_files = glob.glob(\"*.m4a\")\n",
    "\n",
    "\n",
    "for file in m4a_files:\n",
    "    source_path = os.path.join(os.getcwd(), file)\n",
    "    destination_path = os.path.join(os.getcwd(), subdirectory, file)\n",
    "    shutil.move(source_path, destination_path)\n",
    "\n",
    "# print(f\"Archivos movidos a {subdirectory}: {m4a_files}\")\n"
   ]
  },
  {
   "cell_type": "code",
   "execution_count": 17,
   "metadata": {},
   "outputs": [],
   "source": [
    "\n",
    "\n",
    "\n",
    "# Vaciar el contenido del archivo\n",
    "with open(txt_file, 'w') as file:\n",
    "    pass  # No se escribe nada en el archivo, solo se abre en modo 'w' para vaciarlo\n",
    "\n",
    "# print(f\"El contenido de {txt_file} ha sido vaciado.\")\n"
   ]
  }
 ],
 "metadata": {
  "kernelspec": {
   "display_name": "Python 3",
   "language": "python",
   "name": "python3"
  },
  "language_info": {
   "codemirror_mode": {
    "name": "ipython",
    "version": 3
   },
   "file_extension": ".py",
   "mimetype": "text/x-python",
   "name": "python",
   "nbconvert_exporter": "python",
   "pygments_lexer": "ipython3",
   "version": "3.10.13"
  }
 },
 "nbformat": 4,
 "nbformat_minor": 2
}
