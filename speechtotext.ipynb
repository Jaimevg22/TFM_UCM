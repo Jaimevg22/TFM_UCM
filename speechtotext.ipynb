{
 "cells": [
  {
   "cell_type": "code",
   "execution_count": 1,
   "metadata": {},
   "outputs": [
    {
     "name": "stderr",
     "output_type": "stream",
     "text": [
      "c:\\Users\\gmsol\\anaconda3\\envs\\DeepLearningGPU\\lib\\site-packages\\tqdm\\auto.py:21: TqdmWarning: IProgress not found. Please update jupyter and ipywidgets. See https://ipywidgets.readthedocs.io/en/stable/user_install.html\n",
      "  from .autonotebook import tqdm as notebook_tqdm\n"
     ]
    },
    {
     "name": "stdout",
     "output_type": "stream",
     "text": [
      "WARNING:tensorflow:From c:\\Users\\gmsol\\anaconda3\\envs\\DeepLearningGPU\\lib\\site-packages\\keras\\src\\losses.py:2976: The name tf.losses.sparse_softmax_cross_entropy is deprecated. Please use tf.compat.v1.losses.sparse_softmax_cross_entropy instead.\n",
      "\n"
     ]
    },
    {
     "name": "stderr",
     "output_type": "stream",
     "text": [
      "Special tokens have been added in the vocabulary, make sure the associated word embeddings are fine-tuned or trained.\n"
     ]
    }
   ],
   "source": [
    "import torch\n",
    "from transformers import AutoModelForSpeechSeq2Seq, AutoProcessor, pipeline\n",
    "from datasets import load_dataset\n",
    "\n",
    "\n",
    "device = \"cuda:0\" if torch.cuda.is_available() else \"cpu\"\n",
    "torch_dtype = torch.float16 if torch.cuda.is_available() else torch.float32\n",
    "\n",
    "model_id = \"openai/whisper-large-v3\"\n",
    "\n",
    "model = AutoModelForSpeechSeq2Seq.from_pretrained(\n",
    "    model_id, torch_dtype=torch_dtype, low_cpu_mem_usage=True, use_safetensors=True\n",
    ")\n",
    "model.to(device)\n",
    "\n",
    "processor = AutoProcessor.from_pretrained(model_id)\n",
    "\n",
    "pipe = pipeline(\n",
    "    \"automatic-speech-recognition\",\n",
    "    model=model,\n",
    "    tokenizer=processor.tokenizer,\n",
    "    feature_extractor=processor.feature_extractor,\n",
    "    max_new_tokens=128,\n",
    "    chunk_length_s=25,\n",
    "    batch_size=16,\n",
    "    torch_dtype=torch_dtype,\n",
    "    #return_timestamps=True,\n",
    "    device=device,\n",
    ")\n",
    "\n",
    "# dataset = load_dataset(\"distil-whisper/librispeech_long\", \"clean\", split=\"validation\")\n",
    "# sample = dataset[0][\"audio\"]\n",
    "\n",
    "# result = pipe(\"./audios/¿Cómo Podría 1 Trillón de Leones Ganarle al Sol？ [NRAbqNtUgdU].m4a\")\n",
    "# print(result[\"text\"])\n",
    "\n",
    "\n"
   ]
  },
  {
   "cell_type": "code",
   "execution_count": 2,
   "metadata": {},
   "outputs": [
    {
     "name": "stderr",
     "output_type": "stream",
     "text": [
      "c:\\Users\\gmsol\\anaconda3\\envs\\DeepLearningGPU\\lib\\site-packages\\transformers\\models\\whisper\\generation_whisper.py:480: FutureWarning: The input name `inputs` is deprecated. Please make sure to use `input_features` instead.\n",
      "  warnings.warn(\n",
      "Due to a bug fix in https://github.com/huggingface/transformers/pull/28687 transcription using a multilingual Whisper will default to language detection followed by transcription instead of translation to English.This might be a breaking change for your use case. If you want to instead always translate your audio to English, make sure to pass `language='en'`.\n",
      "c:\\Users\\gmsol\\anaconda3\\envs\\DeepLearningGPU\\lib\\site-packages\\transformers\\models\\whisper\\modeling_whisper.py:697: UserWarning: 1Torch was not compiled with flash attention. (Triggered internally at ..\\aten\\src\\ATen\\native\\transformers\\cuda\\sdp_utils.cpp:455.)\n",
      "  attn_output = torch.nn.functional.scaled_dot_product_attention(\n",
      "The attention mask is not set and cannot be inferred from input because pad token is same as eos token.As a consequence, you may observe unexpected behavior. Please pass your input's `attention_mask` to obtain reliable results.\n"
     ]
    }
   ],
   "source": [
    "result = pipe(\"audios\\You blew your budget on WHAT？？ - Intel $5,000 Extreme Tech Upgrade [RUI1k-KHXNk].m4a\")"
   ]
  },
  {
   "cell_type": "code",
   "execution_count": 5,
   "metadata": {},
   "outputs": [
    {
     "data": {
      "text/plain": [
       "{'text': \" No! No! This is going great. We're back again with Intel Extreme Tech Upgrade where Intel has given $5,000 tech makeovers to Anthony, Riley, Dennis, tons of members of the team so far. And we've seen some great themes like VR gaming, extreme comfort, and minimalism. But's is unlike anything we've seen so far. James has what I would describe as the most honest theme. Hey, it's $5,000. I'm gonna take advantage of this to the greatest extent that I can. Don't you knock? Hi, my name is James and I'm head of writing at LMG. So I make sure the videos get made. Describing my current setup in one word, adequate or suboptimal. If you're a glass half full, half empty person, you could pick which way to go there. Not gonna lie, your setup is pretty sick already. What exactly are the pain points we're trying to address today? I have these giant tower speakers. My speakers are pretty good. I didn't think that it was worth changing them out with this budget. These are way, way, way bigger than anyone should have ever, especially this room. I should have got bookshelf, but I didn't know at the time. But even though they have these big eight inch drivers, that's still not as good of base as an actual subwoofer. They don't go as low as an actual subwoofer. So the biggest problem with my home theater setup is that I don't have a subwoofer right now. You don't have... You have these Bolin speakers and no subwoofer. Yeah, exactly. This is pain point number two. This doesn't seem that bad. This is okay, but it doesn't have Atmos. Not that I have any Atmos speakers right now, but I want them in the future. And it's also underpowering my speakers. I don't need more power for making them louder, but it's nice to have more headroom to have a more dynamic sound. When you get those transients coming in, it'll be more lively sounding. Plus, this doesn't have the greatest room correction, and the solution that I have for it has great room correction, so I'm excited for that. Hey, remember when we did the review video of this thing? But James actually has it legit. You won this at the Christmas party, right? That's right. And so today, I'm keeping this chassis and everything. We're just going to shove a new GPU in this same form factor and use a new Rocket Lake CPU on a new ITX motherboard. I don't want to be a downer, but I couldn't help noticing there was a 3080 over on the table there. What are the odds that's going to fit in here? It's going to fit. The final pain point is another home theater related one. Speaker's only half the equation. The other half is the room. This is a giant reflective room. Look at that big blank wall. And that's the first reflection point from this speaker just going bunk right off of that. Right, so your surround is gonna be kind of all over the place. And it can make it harder to understand what people are saying in movies. Now this is a living room, not a home theater. I can't do anything about this. You know, I can't put acoustic panels here or anything like that. And I mean, you can, but the wife approval factor is going to be pretty low. Well, case in point, look at this. This is seemingly a boho shelf, but actually these are acoustic foam inserts that I made. Oh, that's pretty cool. Who knew you were crafty? Don't look too close at them. So on that wall over there, I figure we can make a bunch of DIY acoustic panels, maybe even an art panel, and just fill that all up with as much treatment as we can. Are you telling me that these are just a devious ploy as well? Are these just bass traps? No, we bought these in Morocco, but you actually did uncover another thing that I'm upgrading. These cables under here, they were taped up with electrical tape and everything, but it doesn't matter. My kid grabs them and rips them apart anyway. And like, I just hate how they're dangling here. That's why I got this. Adhesive vinyl that matches my floor. That's kind of genius, actually. Except that I'm moving in like two weeks, so. Before we look at the receiver, I have to do some of the traditional poking around in people's homes. Nice cat tree. Love it. Oh, man. Okay. This is blatantly staged. If you're going to stage it, you might as well just put them on like this, you know? There. These are some good quality baby toys. Hey, is this the same penguin that Nicole has at her desk? Oh, maybe. I recognize this one stolen out of the hands of my child. These things are like, A, the best because kids absolutely love them and use them all the time. But B, f***ing impossible to store. That's nothing. Look at this thing. You know what this is? Is it a puzzle? No. It looks like a puzzle. No. It's a potty. No, it's not. It's a headstand trainer. No. This is the kind of stupid stuff my wife buys. Oh, my phone. So it doesn't prevent you from falling over. I don't. Oh, it does. Oh, so yeah. It keeps you from going over. Yeah, because it'll support your shoulders. Have you never tried it? No, I don't need this. It's actually not the stupidest thing ever. I mean, if you use it, this is one of those. There's a little window behind it that opens like that. That's pretty cool. I like it. I like this. So that whole cat door apparatus like slides out and check this out See right here this I made this in the winter and this is all left like extraneous rock wool from the acoustic panel stuff I like it. Oh, hold on. There's one last thing We have to look at books are the absolute best way to judge someone when you go into their house Especially if you know them a a little bit already. Chris Hadfield, Astronaut's Guide to Life on Earth. I believe you actually read this. I didn't. I bought it for my wife. Do you actually read Lord of the Rings? Hold on, hold on, hold on, hold on. I think you forced yourself to read it once, but you hate Tom Bombadil as much as I do. I read of the Rings in high school that copy I've only read like the first 100 pages wait damn it is this the you haven't actually read it shelf I was bamboozled no you're missing all the best ones I fell for it American Psycho being honest I've only read parts of okay no he're done. This is the best book. This is a copy of The Wealth of Nations by Adam Smith that I got from a used bookstore. This is from like 1915 or something like that. I'm not really a Milton Friedman kind of guy, but you've got to know your enemy, right? Did you read it? Oh, not the whole thing, but I've read enough of it. Hey, look, wait, I just saw my bookmark. Poser. I gotta say, after seeing particularly David's and Dennis's mountains of technology, your haul here looks more focused, maybe? Quality, not quantity. $800. $2,700. Wait, what is that? This is my new AVR. You spent half your budget on a receiver? Yes. Yes, I did. Wow. Okay. Well, why don't we go straight into that? You've got your mainstream kind of Best Buy receivers from Sound United, like Marantz and Denon. And then you've got your next level of more expensive ones that some people think is a waste of money. This is a higher tier, supposedly made with better components kind of amplifier from Anthem, which is a Canadian company. I was searching for something that had really good room correction. So the top of the game there within Reason is gonna be either Dirac, which you get in NAD products or Arc, which you get in Anthem products. I was really interested in getting a NAD one, but then I read all the owner's forum reviews and there was just so many problems. Go for it, buddy. So I went with Anthem because they seem to be more reliable. Okay. I wanted something that was modern, like Atmos and stuff, powerful, and aesthetically pleasing. And I think this is the balance of all three. One of the sweetest things about this is that it has Chromecast built in. And the reason I care is because I hate YouTube music. What? What are you doing? It has Chromecast functionality built in. Yeah, but the TV has to be on. Oh, okay, all right, all right. Dude, don't get me into this. I have- Okay, look at this. Using the Shield remote is better with the Shield. However, I have to still use the LG remote if I want to use the feature where I can hold down the voice command and say screen off, which would allow me to play music and then have the TV screen turn off. Right. But then if you hit any button, it turns back on. And then using this remote fricking sucks. Like there's a lot of problems that it doesn't interface quite well with CEC. So like, no, this feature matters to me. Okay. All right. Thanks, Intel. You're so fired up, James. I've been waiting for a long time for this. This. It feels real good It's a good and I already touched it when you weren't looking wait, there's more lettuce. Wait, is this like room correction? Yeah, so receivers typically come with a microphone with which you can yeah, but like It's a toy but this one as far as I tell, this is just a rebranded you mic one. And the you mic one is a, is a $200 kind of the standard measurement microphone that people use. And now I've also confirmed that this thing is not software locked to their software. You can just plug this into your laptop and use it with Roo or whatever software you want. Does it come with like a stand for it and everything? Hell yeah, a full tripod. What the hell? I gotta tell you, as someone who's pretty happy with my Sonos Arc, I'm finding some aspects of this upgrade a little hard to justify. So why don't we start with the before before why do we always end up in bed together this always happens I think it's my turn to wear the wig the acoustics in this room really are terrible the volume of air in here goes all through the house yeah the my home theater doesn't know that there's an imaginary wall right here it has to pressurize all the way to the the front door. And so I think these eight inch woofers just can't do that. Plus they're not gonna, the extension, they're just not gonna go as low as. Yeah, I'm still very surprised at how bad it sounds. You can hear the bass more on that one. Yeah, I can hear it, but you're not supposed to hear bass. You're supposed to feel, there's nothing. There's no arousal whatsoever. I'd love to help, but you know how it is with cats. You can't really, oh, you're not gonna, oh, you moved her, poor thing. Stop looking at her butthole. I'm not looking at her butthole, her tail's down. I think what we should do is unplug the existing receiver. Yep. Put on banana plugs, which will make it way more convenient when I move. In two weeks. I have to plug everything back in. Yeah. And get this in place. Okay, let's do it. Oh, God. Oh, no. The plant was overwatered and it sogged in and swelled. Damn it. I spent $30 on this thing. All right, give me some banana plugs. I'm ready. Oh, they're all individually wrapped? No, that's way more plastic than I want. I want this to be in the same spot this is in, so it's not so easy as taking them and putting them here, because they have to go through the same cable management hole. So is this a one-person job if we only have that one screwdriver that fits? Yes. Okay. See you later. I'll go to bed. I might even join you. For those of you who aren't familiar, this is how this works. You just take your bare wire and usually you would like, I don't know, sandpaper it a little bit or something because you care about it making really good contact. But realistically, we all know that's not gonna make a difference. So I'm just gonna pop that in there. And this is the subwoofer I got. The ever popular SVS SB2000 Pro. The S means it's sealed. The B means it's a box instead of a cylinder. And the Pro means that I can use it with an app. And now we go from just having ugly, horrible bare wire that is a pain in the butt and hurts your fingers to plug in to screwing this guy on. Oh, look at that. And it plugs right back into that same, well, you gotta tighten the thing, I guess. Then it plugs right back into that, right back in, there I guess. Comes in two colors, black ash, which is similar to my speakers, and then glossy piano black. But I went for the black ash. You like that black ash, don't ya? They sent piano black. This costs $100 more. Oh, really? I'm not taking that into my budget. I appreciate you, SBS. My budget allocated $800, not $900. This is going to sound so much better. Oh, this thing is going to haul. I honestly thought that you were kind of wasting a lot of your money until I heard the before. I would like to run naked, no grill, but I have a toddler. That's why even on these beautiful Clipsh's, I have all the grills on because they like to touch stuff and color. And crucially, I got this kit, the SoundPath subwoofer isolation system. So these are for decoupling your subwoofer from the floor. The last thing you want is for your subwoofer to growl and then to hear a rattling somewhere else in your house. So these are the feet that come with. They are not hard plastic. They're not that substantial. And here is the foot we're going to be replacing it with. Look at that. Oh, I like feet. I want to see it. Well, it kind of looks like a flashlight actually. Oh God. So subwoofer placement is a thing, especially if you have multiple subwoofers. If you only have one subwoofer and you're in a small room and there's only one or two logical places to put it, then you should just put it where you're going to put it. But if you have multiple potential spots, you should do what's called a subwoofer crawl. And so what that is, is you play bass sweeps and you move your subwoofer around to different parts of the room until when you're sitting in your main listening position, that bass sweep is at equal volume across the frequencies. I'm not gonna do a subwoofer crawl right now. I'm just gonna plug it in. Cause I'm moving in two weeks. Yeah, exactly. My kid is gonna use this to climb onto the couch. Phantom cables. I don't think this is the most expensive one they sell, but this is a nice amount of shielding. I'm pretty happy with this. I'm excited about the cable. Hey, I mean, I'm sitting over here fondling cables for the last half an hour, so. This couch has made it really hard to find a new place to live because it's just such a huge couch. I'm basically in bed all the time. I am done the banana plugs. Should we do the vinyl floor thing? Oh, totally. But I think we should do that after we put the new receiver in. I keep trying to sit on this table and it's a piece of s***. Yeah, I spent like $99 on Facebook Marketplace for that thing. Okay, that was too much. Goodbye, slim friend. Hello, chunky hybrid class A. Okay, that's deep enough. That's what he said. This is a really stiff HDMI cable, James. No, no, no, no, no, no, no. I got this. I got this. Are you trying to capture the moment where I realize I don't got this? One thing to know about this receiver is that it's not the best option for people who have multiple subs. And that is because inside there's not two different circuit paths. It's actually just an internal Y splitter. So the two different ports you have for subs just go to the same thing. And the reason that's not great is because when you get to the room correction part of it, it can't separately tune the two subwoofers. You work on the PC, I'll build some acoustic panels. We'll do the ArcGenesis setup after because it requires using the PC. And we'll be ready to go. So I'm going to work backwards and show you the finished product. This is a finished acoustic panel. It's got some white fabric on it that is acoustically transparent. You can tell because you can hold it up and see light come through it and you hold it up in your mouth and you can breathe through it. I just stretched it over this wooden frame and stapled it and put some hangers on it. This is a partially completed one that's full of rock wool. This stuff is cool. It's not like the pink insulation that you have to wear a mask and goggles for and that irritates your skin. This stuff is super workable. You can cut it with just a bread knife. You can touch it, handle it. Now, James, I couldn't help overhearing before that you're planning to sell your receiver to David after the video's done. And I couldn't help noticing that you've got an RTX graphics card already in your rig. So are you planning to not just get a tech upgrade, but also make some money here? You know, I got to keep up with all the other guys here and get a 3080 because that's the thing to do. Being able to do so at MSRP, giving me two very good PCs at the end is great because I have some people in my life who I'd love to give a PC to. How hard is this system workingorgasbord? It's clearly designed to be built once at a factory and then not really worked on. But for a prebuilt, it uses completely standard components. So I can't really complain. Oh, crap. It split the wood. Oh, man, this is really freaking tight. James, how am I going to put the new motherboard in here? Okay, this is, oh God, don't even look at this. This is really bad. Oh, what the, what are you doing over there? I didn't think I was doing this home upgrade with Dennis. Your wifi is hooked up like internally to antennas that are built into the case. How does this power supply screw? I am going to have to completely tear this thing down. I have to get the power supply out in order to remove these wifi wires. I pulled a David. That's not what happened with me. Well, not exactly, but similar. Hey David, David,. Yes? Oh, my God. You're in luck, James. I am extracting your Wi-Fi. Thank you. There's just a couple little antenna PCBs here that need to pop off the bottom feet. All right, I'm just gonna do this over my kitchen sink, I think. What are you even doing? I'm just lopping an eighth of an inch off. Wait, over the sink? Well, yeah, I could scoop it out. Let's have a look at the motherboard we're using for the upgrade. Really nice little board. Lots of features. So we've got Wi-Fi AC now with an Intel chip. We've got USB 3.1. We've got Type-C. We've got... Is this two and a half gig LAN? I believe it is. Nice! We've got support for the latest Intel 11th gen processors on LGA 1200. So because James isn't gonna be overclocking, it's not necessary for us to go with a Z series chipset. We've got a core i7 11700. We've got an H5, and then we're actually reusing his memory from his old system, which is... Wow, 2666. Eye protection. Use it. Yeah, if you ever feel like upgrading your memory, that's probably gonna hold you back just a little bit with this puppy, but hopefully it's fine. We don't? I have a plan. First, let's go ahead and install the CPU. Oh, no way, this is awesome. Check this out. So this motherboard, because you've got support for PCI Express Gen 4 on Intel's 11th Gen processors, you can have a high speed M.2 that runs at Gen 4 speeds, and then you can have like a normal Gen 3 one. And even though this is an ITX board, they actually managed to put two M.2 slots on it without like a big sort of like riser that comes off the board or anything like that. Check this out. It's just right here under their M.2 armor heat sink. Freaking awesome. I love it. if you need help with the power tools, I can help you. It's just so annoying not having like clamps and stuff and the vice grips. Here's my plan. We don't have any thermal compound, but I have some experience with these things, reusing thermal compound. Unfortunately, there's not enough really on here for us to just kind of plunk it onto a new clean CPU. So what we're gonna do is we're just gonna kind of salvage as much of this back as we can here. Pilots are done. No. Okay. No. This is going great. Oh, yeah, we're gonna be done at like two. Oh, I mostly just meant my thermal paste application here. Now, I understand, David, you might look at this and go, gee, Linus, I don't know if that's enough thermal paste, especially because it's kind of, it's old and desiccated. That's where the stock heatsink that came with the CPU comes in. We don't want to use this heat sink, but we can get a little bit of extra fresh thermal paste off of it. Oh wow, this stuff's way better. I should have just used this. Is Linus somehow trying to make my upgrade more jank than yours, David? Not trying, succeeding. I found the extra rock wool. The highest frequencies that come into your sterile can get absorbed by like curtains or a thick rug. But the lower you go, the deeper you need because the wavelengths are longer. So this is about four inches. Actually, I think it's five and a half inches thick. This is kind of too thick to hang off of my wall. That wouldn't really look like a normal painting or anything. So I'm actually gonna take a bread knife and cut this in half. Oh, this is really tight. Just get out of the way. It really does just go right in there. So I'm just pulling this tight so it's wrinkle free on the other side. I did the opposite ends first to get that axis tight and then now I'm gonna go to the side starting with the middle. I'm just checking the front panel connector configurations. Usually from one brand to the same brand it's the same but sometimes when you switch brands they're different. Usually they print the key somewhere on the PCB but on these really small boards they often can't fit it right next to it. So you can see this one's over here, but it looks like they're the same. So I can just plunk that in. Excellent. So one of those front USB ports has some gunk on it that doesn't work. I was hoping you could- I'm sorry to hear that. Maybe you could do something about that. Oh, I see. That's where you're going with it. Well, you don't just get $5,000 of Intel's money. You get eight hours of Linus's time. The only thing left to do now is put some fabric on the back. So you don't want to use the same fabric you did on the front. You can cheap out and get either burlap or if the fabric store you go to just has a bin of crap, that's like refuse, that's what I got. So this might happens to be white, but it just serves to cover up and make it a little nicer. And I've got an update too. I've got my motherboard and CPU in. I've got all the cable management done on this side. I think this panel should close. So all that remains for me is to put in the RTX 3080. Look at that. It's almost like it's new. You left the peel on there and everything. You pretended that you weren't using it for three weeks. You know what? This was a little annoying to work in, but good job MSI for making a prebuilt that's actually upgradable with completely standard parts and like- Look how spacious that GPU cave is. Yeah, totally. You could absolutely do like anything in here as long as it's not triple thick. We're finished with all the acoustic panels. I have four white ones like this, but why just stick with white when you can get printed art panels? So what I've done is I got some artwork from my friend Jasmine, who's an artist. She does prints now. So I got one of her prints. I have another one in my bedroom and I got it printed onto fabric using dye sublimation printing. That is a very colorful art. Well, it's mostly orange. That's really not what I meant. So do I get to listen to it now? We have to do the Arc Genesis setup. Are you ready for Arc Genesis? Yeah, I'm pretty sure this gives you a live feed. Oh, really? From position one, position the microphone at ear level and point it towards the ceiling. Okay. Okay, now once you hit start. Hi, how you doing? We should actually get out of the way. Oh, I'm getting down. Be quiet. Everybody, shut up! There's some room rattle on that one. I think this little bump right here is actually me saying mm-hmm to you when the sub was running because the other one didn't have anything above one kilohertz for the subwoofer. This is super cool. Okay, it says it's done. Please wait for your correction curves. It's ready to upload corrections to your device. So I click upload now, I guess. Oh, we should probably swap out your shield before we do. That's the last the last piece. Okay. Well, also don't forget about the floor. Oh, right, right, right. Okay. You get the shield. I got this. I got this. This is going to be really high effort because I know James is staying here a long time. This self-adhesive can be applied to all smooth, clean and dry surfaces. I don't know. Let's eyeball it. Oh, in that case, it's not really long enough. Realistically. I don't really care though. Honestly, whatever, man. At this point, this is a waste of $20. So this is not going very well. Oh no. It folded in on itself. Okay. Here, hold on. Hold on. I got it. Dbrand, are you proud of me yet? Oh God, I can see why they want the surface to be clean. There, oh, there you go. All right, enjoy James. Totally not noticeable. Is that worse than the speaker wire? I think so. And we're back to square one. And the worst part is that I taped down the wires right under the chair. Right under the leg? Like sitting on the leg. You son of a What are you going to do? Ask for a refund. Oh my God, this is getting so bad. Oh my God, this feels like infomercial fails level. This is awesome. I'm gonna wrap you in this as a prank one day. No way. Okay, I'm ready. Are you ready? Who gets your daughter's pee spot here? That's maybe animal pee. Oh, I'm totally gonna be that guy that goes into someone else's home and takes the alpha listening spot right in the dead center. And I just dropped a silent fart onto your alpha listening spot. That is night and day. Do you feel like the sub is super localized? No, you probably do because you can literally feel the vibration of it. One thing I did notice though, is there's only so much that your arc calibration can do. Exactly. I can, there's still a void over there. It's the cherry on top. It's not going to change your world. No, but it's better. What about your impressions? This is your setup. Let me sit there. Oh, you piece of. I want to see some intelligibility of dialogue. Wait, you're not going to give music impressions other than that? I'm not ready to. I need to audition for longer than that. That sounds awesome. This is like neighbor complaining level though. The sound stage, I can pinpoint all the sounds. Like when he stepped on that cello and broke it, it was like right in front of me. I can't wipe the smile from my face. This is so sweet. Yeah, it's night and day, man. Any regrets about spending $2,700 of your budget on the receiver? Not yet, but a receiver is the type of thing you, like, you learn about over time, the quirks and stuff. But right now, I'm very happy. It looks awesome, it sounds awesome, and it's gonna be future-proof enough for me for many years. The way James flips his computer over to his TV for now is just by moving the cable because he's only got a single HDMI output. But what we'll do in the future then is you'll just go DisplayPort out to a new monitor, because this one doesn't have DisplayPort, and then you'll go HDMI out to your receiver, and then you can just switch the input and boom. Now we're ready with the gaming PC. Hold on. I need to be able to see this from my wired keyboard over there. You do? Where's your wireless one? In my storage locker. Oh. I haven't couch gamed in a long time. Okay. This is co-op gaming. Oh, it looks fantastic. How's the sound? High fidelity. So that's pretty much it. Once you move into the new place, you can get the wireless keyboard mouse out. You'll have gaming, movies, music, everything freaking covered. It's sick. I'm very happy. It sounds amazing. I saw your setup and I was like, wait a minute. We're upgrading something that is already freaking amazing. But then I tried it and it blew chunks and now it's awesome. Man, now you didn't totally waste your money on these speakers because. Those weren't as expensive as you would have thought. Marketplace, baby. My stuff's all used all the time. This is the first new stuff I've ever had. And yet when I give you a budget, you go and buy a bunch of stuff brand new. I see how it works. Or rather Intel did. So thanks again to Intel for sponsoring Extreme Tech Upgrade, Dumbass Edition. We will see you guys at the next one, which I believe is going to be... Maybe Alex. Oh, it might be the one and only Alex Clark. If you guys are looking for another video to watch, make sure that you guys check out our previous Intel Extreme Tech upgrades with Dennis, Riley, Colton, all kinds of colorful characters. Oh, Dennis.\"}"
      ]
     },
     "execution_count": 5,
     "metadata": {},
     "output_type": "execute_result"
    }
   ],
   "source": [
    "result"
   ]
  },
  {
   "cell_type": "code",
   "execution_count": 7,
   "metadata": {},
   "outputs": [
    {
     "data": {
      "text/plain": [
       "5685.4"
      ]
     },
     "execution_count": 7,
     "metadata": {},
     "output_type": "execute_result"
    }
   ],
   "source": [
    "len(result[\"text\"])/5"
   ]
  },
  {
   "cell_type": "code",
   "execution_count": 4,
   "metadata": {},
   "outputs": [],
   "source": [
    "# import torch\n",
    "# import gc\n",
    "\n",
    "# # Liberar memoria de la GPU\n",
    "# torch.cuda.empty_cache()\n",
    "\n",
    "# # Liberar todos los objetos no referenciados\n",
    "# gc.collect()"
   ]
  }
 ],
 "metadata": {
  "kernelspec": {
   "display_name": "tfg_descarga_video",
   "language": "python",
   "name": "python3"
  },
  "language_info": {
   "codemirror_mode": {
    "name": "ipython",
    "version": 3
   },
   "file_extension": ".py",
   "mimetype": "text/x-python",
   "name": "python",
   "nbconvert_exporter": "python",
   "pygments_lexer": "ipython3",
   "version": "3.10.13"
  }
 },
 "nbformat": 4,
 "nbformat_minor": 2
}
